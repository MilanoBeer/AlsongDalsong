{
 "cells": [
  {
   "cell_type": "markdown",
   "metadata": {
    "id": "NOsXVEuODEue"
   },
   "source": [
    "# 전복 나이 예측\n",
    "[데이콘](https://dacon.io/competitions/official/235877/overview/description)"
   ]
  },
  {
   "cell_type": "code",
   "execution_count": 1,
   "metadata": {
    "colab": {
     "base_uri": "https://localhost:8080/"
    },
    "executionInfo": {
     "elapsed": 2540,
     "status": "ok",
     "timestamp": 1648708374771,
     "user": {
      "displayName": "임소연",
      "userId": "16609908587458212979"
     },
     "user_tz": -540
    },
    "id": "5YUodDoujOHw",
    "outputId": "8594fe72-4dea-4fc7-ecf9-c1997fa3b0bb"
   },
   "outputs": [
    {
     "name": "stdout",
     "output_type": "stream",
     "text": [
      "Drive already mounted at /content/drive; to attempt to forcibly remount, call drive.mount(\"/content/drive\", force_remount=True).\n"
     ]
    }
   ],
   "source": [
    "from google.colab import drive\n",
    "drive.mount('/content/drive')"
   ]
  },
  {
   "cell_type": "code",
   "execution_count": 2,
   "metadata": {
    "colab": {
     "base_uri": "https://localhost:8080/"
    },
    "executionInfo": {
     "elapsed": 51,
     "status": "ok",
     "timestamp": 1648708374772,
     "user": {
      "displayName": "임소연",
      "userId": "16609908587458212979"
     },
     "user_tz": -540
    },
    "id": "v0b--PoVjJpi",
    "outputId": "5296430c-5a5c-4d33-967f-a5a1ae90cd46"
   },
   "outputs": [
    {
     "name": "stdout",
     "output_type": "stream",
     "text": [
      "/content/drive/.shortcut-targets-by-id/1sa3E1r6eMXnzqqXE9EkHzWBh2ZLU56y3/study/데이콘/임소연/전복\n"
     ]
    }
   ],
   "source": [
    "cd /content/drive/MyDrive/study/데이콘/임소연/전복"
   ]
  },
  {
   "cell_type": "code",
   "execution_count": 3,
   "metadata": {
    "executionInfo": {
     "elapsed": 50,
     "status": "ok",
     "timestamp": 1648708374774,
     "user": {
      "displayName": "임소연",
      "userId": "16609908587458212979"
     },
     "user_tz": -540
    },
    "id": "pJ29m_TBjdUt"
   },
   "outputs": [],
   "source": [
    "import pandas as pd\n",
    "\n",
    "train = pd.read_csv('./train.csv')\n",
    "test = pd.read_csv('./test.csv')\n",
    "submission = pd.read_csv('./sample_submission.csv')"
   ]
  },
  {
   "cell_type": "code",
   "execution_count": 4,
   "metadata": {
    "colab": {
     "base_uri": "https://localhost:8080/",
     "height": 206
    },
    "executionInfo": {
     "elapsed": 53,
     "status": "ok",
     "timestamp": 1648708374778,
     "user": {
      "displayName": "임소연",
      "userId": "16609908587458212979"
     },
     "user_tz": -540
    },
    "id": "BxCvQlu1jx6Z",
    "outputId": "3cf778e4-8bd7-492e-8e9d-8b71ffb3f93e"
   },
   "outputs": [
    {
     "data": {
      "text/html": [
       "\n",
       "  <div id=\"df-5cbd498e-f361-4499-906f-7128c8325694\">\n",
       "    <div class=\"colab-df-container\">\n",
       "      <div>\n",
       "<style scoped>\n",
       "    .dataframe tbody tr th:only-of-type {\n",
       "        vertical-align: middle;\n",
       "    }\n",
       "\n",
       "    .dataframe tbody tr th {\n",
       "        vertical-align: top;\n",
       "    }\n",
       "\n",
       "    .dataframe thead th {\n",
       "        text-align: right;\n",
       "    }\n",
       "</style>\n",
       "<table border=\"1\" class=\"dataframe\">\n",
       "  <thead>\n",
       "    <tr style=\"text-align: right;\">\n",
       "      <th></th>\n",
       "      <th>id</th>\n",
       "      <th>Gender</th>\n",
       "      <th>Lenght</th>\n",
       "      <th>Diameter</th>\n",
       "      <th>Height</th>\n",
       "      <th>Whole Weight</th>\n",
       "      <th>Shucked Weight</th>\n",
       "      <th>Viscra Weight</th>\n",
       "      <th>Shell Weight</th>\n",
       "      <th>Target</th>\n",
       "    </tr>\n",
       "  </thead>\n",
       "  <tbody>\n",
       "    <tr>\n",
       "      <th>0</th>\n",
       "      <td>1</td>\n",
       "      <td>M</td>\n",
       "      <td>0.605</td>\n",
       "      <td>0.470</td>\n",
       "      <td>0.115</td>\n",
       "      <td>1.1140</td>\n",
       "      <td>0.3925</td>\n",
       "      <td>0.2910</td>\n",
       "      <td>0.3100</td>\n",
       "      <td>15</td>\n",
       "    </tr>\n",
       "    <tr>\n",
       "      <th>1</th>\n",
       "      <td>2</td>\n",
       "      <td>I</td>\n",
       "      <td>0.430</td>\n",
       "      <td>0.315</td>\n",
       "      <td>0.095</td>\n",
       "      <td>0.3780</td>\n",
       "      <td>0.1750</td>\n",
       "      <td>0.0800</td>\n",
       "      <td>0.1045</td>\n",
       "      <td>8</td>\n",
       "    </tr>\n",
       "    <tr>\n",
       "      <th>2</th>\n",
       "      <td>3</td>\n",
       "      <td>I</td>\n",
       "      <td>0.580</td>\n",
       "      <td>0.490</td>\n",
       "      <td>0.195</td>\n",
       "      <td>1.3165</td>\n",
       "      <td>0.5305</td>\n",
       "      <td>0.2540</td>\n",
       "      <td>0.4100</td>\n",
       "      <td>18</td>\n",
       "    </tr>\n",
       "    <tr>\n",
       "      <th>3</th>\n",
       "      <td>4</td>\n",
       "      <td>M</td>\n",
       "      <td>0.535</td>\n",
       "      <td>0.405</td>\n",
       "      <td>0.175</td>\n",
       "      <td>1.2705</td>\n",
       "      <td>0.5480</td>\n",
       "      <td>0.3265</td>\n",
       "      <td>0.3370</td>\n",
       "      <td>13</td>\n",
       "    </tr>\n",
       "    <tr>\n",
       "      <th>4</th>\n",
       "      <td>5</td>\n",
       "      <td>I</td>\n",
       "      <td>0.310</td>\n",
       "      <td>0.235</td>\n",
       "      <td>0.090</td>\n",
       "      <td>0.1270</td>\n",
       "      <td>0.0480</td>\n",
       "      <td>0.0310</td>\n",
       "      <td>0.0400</td>\n",
       "      <td>6</td>\n",
       "    </tr>\n",
       "  </tbody>\n",
       "</table>\n",
       "</div>\n",
       "      <button class=\"colab-df-convert\" onclick=\"convertToInteractive('df-5cbd498e-f361-4499-906f-7128c8325694')\"\n",
       "              title=\"Convert this dataframe to an interactive table.\"\n",
       "              style=\"display:none;\">\n",
       "        \n",
       "  <svg xmlns=\"http://www.w3.org/2000/svg\" height=\"24px\"viewBox=\"0 0 24 24\"\n",
       "       width=\"24px\">\n",
       "    <path d=\"M0 0h24v24H0V0z\" fill=\"none\"/>\n",
       "    <path d=\"M18.56 5.44l.94 2.06.94-2.06 2.06-.94-2.06-.94-.94-2.06-.94 2.06-2.06.94zm-11 1L8.5 8.5l.94-2.06 2.06-.94-2.06-.94L8.5 2.5l-.94 2.06-2.06.94zm10 10l.94 2.06.94-2.06 2.06-.94-2.06-.94-.94-2.06-.94 2.06-2.06.94z\"/><path d=\"M17.41 7.96l-1.37-1.37c-.4-.4-.92-.59-1.43-.59-.52 0-1.04.2-1.43.59L10.3 9.45l-7.72 7.72c-.78.78-.78 2.05 0 2.83L4 21.41c.39.39.9.59 1.41.59.51 0 1.02-.2 1.41-.59l7.78-7.78 2.81-2.81c.8-.78.8-2.07 0-2.86zM5.41 20L4 18.59l7.72-7.72 1.47 1.35L5.41 20z\"/>\n",
       "  </svg>\n",
       "      </button>\n",
       "      \n",
       "  <style>\n",
       "    .colab-df-container {\n",
       "      display:flex;\n",
       "      flex-wrap:wrap;\n",
       "      gap: 12px;\n",
       "    }\n",
       "\n",
       "    .colab-df-convert {\n",
       "      background-color: #E8F0FE;\n",
       "      border: none;\n",
       "      border-radius: 50%;\n",
       "      cursor: pointer;\n",
       "      display: none;\n",
       "      fill: #1967D2;\n",
       "      height: 32px;\n",
       "      padding: 0 0 0 0;\n",
       "      width: 32px;\n",
       "    }\n",
       "\n",
       "    .colab-df-convert:hover {\n",
       "      background-color: #E2EBFA;\n",
       "      box-shadow: 0px 1px 2px rgba(60, 64, 67, 0.3), 0px 1px 3px 1px rgba(60, 64, 67, 0.15);\n",
       "      fill: #174EA6;\n",
       "    }\n",
       "\n",
       "    [theme=dark] .colab-df-convert {\n",
       "      background-color: #3B4455;\n",
       "      fill: #D2E3FC;\n",
       "    }\n",
       "\n",
       "    [theme=dark] .colab-df-convert:hover {\n",
       "      background-color: #434B5C;\n",
       "      box-shadow: 0px 1px 3px 1px rgba(0, 0, 0, 0.15);\n",
       "      filter: drop-shadow(0px 1px 2px rgba(0, 0, 0, 0.3));\n",
       "      fill: #FFFFFF;\n",
       "    }\n",
       "  </style>\n",
       "\n",
       "      <script>\n",
       "        const buttonEl =\n",
       "          document.querySelector('#df-5cbd498e-f361-4499-906f-7128c8325694 button.colab-df-convert');\n",
       "        buttonEl.style.display =\n",
       "          google.colab.kernel.accessAllowed ? 'block' : 'none';\n",
       "\n",
       "        async function convertToInteractive(key) {\n",
       "          const element = document.querySelector('#df-5cbd498e-f361-4499-906f-7128c8325694');\n",
       "          const dataTable =\n",
       "            await google.colab.kernel.invokeFunction('convertToInteractive',\n",
       "                                                     [key], {});\n",
       "          if (!dataTable) return;\n",
       "\n",
       "          const docLinkHtml = 'Like what you see? Visit the ' +\n",
       "            '<a target=\"_blank\" href=https://colab.research.google.com/notebooks/data_table.ipynb>data table notebook</a>'\n",
       "            + ' to learn more about interactive tables.';\n",
       "          element.innerHTML = '';\n",
       "          dataTable['output_type'] = 'display_data';\n",
       "          await google.colab.output.renderOutput(dataTable, element);\n",
       "          const docLink = document.createElement('div');\n",
       "          docLink.innerHTML = docLinkHtml;\n",
       "          element.appendChild(docLink);\n",
       "        }\n",
       "      </script>\n",
       "    </div>\n",
       "  </div>\n",
       "  "
      ],
      "text/plain": [
       "   id Gender  Lenght  Diameter  Height  Whole Weight  Shucked Weight  \\\n",
       "0   1      M   0.605     0.470   0.115        1.1140          0.3925   \n",
       "1   2      I   0.430     0.315   0.095        0.3780          0.1750   \n",
       "2   3      I   0.580     0.490   0.195        1.3165          0.5305   \n",
       "3   4      M   0.535     0.405   0.175        1.2705          0.5480   \n",
       "4   5      I   0.310     0.235   0.090        0.1270          0.0480   \n",
       "\n",
       "   Viscra Weight  Shell Weight  Target  \n",
       "0         0.2910        0.3100      15  \n",
       "1         0.0800        0.1045       8  \n",
       "2         0.2540        0.4100      18  \n",
       "3         0.3265        0.3370      13  \n",
       "4         0.0310        0.0400       6  "
      ]
     },
     "execution_count": 4,
     "metadata": {},
     "output_type": "execute_result"
    }
   ],
   "source": [
    "train.head()"
   ]
  },
  {
   "cell_type": "markdown",
   "metadata": {
    "id": "bqCB2FmqDRec"
   },
   "source": [
    "## 전처리"
   ]
  },
  {
   "cell_type": "code",
   "execution_count": 5,
   "metadata": {
    "executionInfo": {
     "elapsed": 52,
     "status": "ok",
     "timestamp": 1648708374780,
     "user": {
      "displayName": "임소연",
      "userId": "16609908587458212979"
     },
     "user_tz": -540
    },
    "id": "ioIWBbjOu9lY"
   },
   "outputs": [],
   "source": [
    "train['Gender'] = train['Gender'].astype('category').cat.codes\n",
    "test['Gender'] = test['Gender'].astype('category').cat.codes"
   ]
  },
  {
   "cell_type": "code",
   "execution_count": 6,
   "metadata": {
    "colab": {
     "base_uri": "https://localhost:8080/"
    },
    "executionInfo": {
     "elapsed": 52,
     "status": "ok",
     "timestamp": 1648708374781,
     "user": {
      "displayName": "임소연",
      "userId": "16609908587458212979"
     },
     "user_tz": -540
    },
    "id": "ATf-0OefutjE",
    "outputId": "7482f4f1-0c4d-422c-f46d-cc88ef5e7821"
   },
   "outputs": [
    {
     "name": "stdout",
     "output_type": "stream",
     "text": [
      "<class 'pandas.core.frame.DataFrame'>\n",
      "RangeIndex: 1253 entries, 0 to 1252\n",
      "Data columns (total 10 columns):\n",
      " #   Column          Non-Null Count  Dtype  \n",
      "---  ------          --------------  -----  \n",
      " 0   id              1253 non-null   int64  \n",
      " 1   Gender          1253 non-null   int8   \n",
      " 2   Lenght          1253 non-null   float64\n",
      " 3   Diameter        1253 non-null   float64\n",
      " 4   Height          1253 non-null   float64\n",
      " 5   Whole Weight    1253 non-null   float64\n",
      " 6   Shucked Weight  1253 non-null   float64\n",
      " 7   Viscra Weight   1253 non-null   float64\n",
      " 8   Shell Weight    1253 non-null   float64\n",
      " 9   Target          1253 non-null   int64  \n",
      "dtypes: float64(7), int64(2), int8(1)\n",
      "memory usage: 89.5 KB\n"
     ]
    }
   ],
   "source": [
    "train.info()"
   ]
  },
  {
   "cell_type": "code",
   "execution_count": 7,
   "metadata": {
    "colab": {
     "base_uri": "https://localhost:8080/",
     "height": 206
    },
    "executionInfo": {
     "elapsed": 369,
     "status": "ok",
     "timestamp": 1648708375105,
     "user": {
      "displayName": "임소연",
      "userId": "16609908587458212979"
     },
     "user_tz": -540
    },
    "id": "kc7Gqd7wuwmO",
    "outputId": "3ec8f343-b5c1-4109-dd33-5e087b2ddae5"
   },
   "outputs": [
    {
     "data": {
      "text/html": [
       "\n",
       "  <div id=\"df-659c199d-0cfe-4a47-a096-840f25b24b20\">\n",
       "    <div class=\"colab-df-container\">\n",
       "      <div>\n",
       "<style scoped>\n",
       "    .dataframe tbody tr th:only-of-type {\n",
       "        vertical-align: middle;\n",
       "    }\n",
       "\n",
       "    .dataframe tbody tr th {\n",
       "        vertical-align: top;\n",
       "    }\n",
       "\n",
       "    .dataframe thead th {\n",
       "        text-align: right;\n",
       "    }\n",
       "</style>\n",
       "<table border=\"1\" class=\"dataframe\">\n",
       "  <thead>\n",
       "    <tr style=\"text-align: right;\">\n",
       "      <th></th>\n",
       "      <th>id</th>\n",
       "      <th>Gender</th>\n",
       "      <th>Lenght</th>\n",
       "      <th>Diameter</th>\n",
       "      <th>Height</th>\n",
       "      <th>Whole Weight</th>\n",
       "      <th>Shucked Weight</th>\n",
       "      <th>Viscra Weight</th>\n",
       "      <th>Shell Weight</th>\n",
       "      <th>Target</th>\n",
       "    </tr>\n",
       "  </thead>\n",
       "  <tbody>\n",
       "    <tr>\n",
       "      <th>0</th>\n",
       "      <td>1</td>\n",
       "      <td>2</td>\n",
       "      <td>0.605</td>\n",
       "      <td>0.470</td>\n",
       "      <td>0.115</td>\n",
       "      <td>1.1140</td>\n",
       "      <td>0.3925</td>\n",
       "      <td>0.2910</td>\n",
       "      <td>0.3100</td>\n",
       "      <td>15</td>\n",
       "    </tr>\n",
       "    <tr>\n",
       "      <th>1</th>\n",
       "      <td>2</td>\n",
       "      <td>1</td>\n",
       "      <td>0.430</td>\n",
       "      <td>0.315</td>\n",
       "      <td>0.095</td>\n",
       "      <td>0.3780</td>\n",
       "      <td>0.1750</td>\n",
       "      <td>0.0800</td>\n",
       "      <td>0.1045</td>\n",
       "      <td>8</td>\n",
       "    </tr>\n",
       "    <tr>\n",
       "      <th>2</th>\n",
       "      <td>3</td>\n",
       "      <td>1</td>\n",
       "      <td>0.580</td>\n",
       "      <td>0.490</td>\n",
       "      <td>0.195</td>\n",
       "      <td>1.3165</td>\n",
       "      <td>0.5305</td>\n",
       "      <td>0.2540</td>\n",
       "      <td>0.4100</td>\n",
       "      <td>18</td>\n",
       "    </tr>\n",
       "    <tr>\n",
       "      <th>3</th>\n",
       "      <td>4</td>\n",
       "      <td>2</td>\n",
       "      <td>0.535</td>\n",
       "      <td>0.405</td>\n",
       "      <td>0.175</td>\n",
       "      <td>1.2705</td>\n",
       "      <td>0.5480</td>\n",
       "      <td>0.3265</td>\n",
       "      <td>0.3370</td>\n",
       "      <td>13</td>\n",
       "    </tr>\n",
       "    <tr>\n",
       "      <th>4</th>\n",
       "      <td>5</td>\n",
       "      <td>1</td>\n",
       "      <td>0.310</td>\n",
       "      <td>0.235</td>\n",
       "      <td>0.090</td>\n",
       "      <td>0.1270</td>\n",
       "      <td>0.0480</td>\n",
       "      <td>0.0310</td>\n",
       "      <td>0.0400</td>\n",
       "      <td>6</td>\n",
       "    </tr>\n",
       "  </tbody>\n",
       "</table>\n",
       "</div>\n",
       "      <button class=\"colab-df-convert\" onclick=\"convertToInteractive('df-659c199d-0cfe-4a47-a096-840f25b24b20')\"\n",
       "              title=\"Convert this dataframe to an interactive table.\"\n",
       "              style=\"display:none;\">\n",
       "        \n",
       "  <svg xmlns=\"http://www.w3.org/2000/svg\" height=\"24px\"viewBox=\"0 0 24 24\"\n",
       "       width=\"24px\">\n",
       "    <path d=\"M0 0h24v24H0V0z\" fill=\"none\"/>\n",
       "    <path d=\"M18.56 5.44l.94 2.06.94-2.06 2.06-.94-2.06-.94-.94-2.06-.94 2.06-2.06.94zm-11 1L8.5 8.5l.94-2.06 2.06-.94-2.06-.94L8.5 2.5l-.94 2.06-2.06.94zm10 10l.94 2.06.94-2.06 2.06-.94-2.06-.94-.94-2.06-.94 2.06-2.06.94z\"/><path d=\"M17.41 7.96l-1.37-1.37c-.4-.4-.92-.59-1.43-.59-.52 0-1.04.2-1.43.59L10.3 9.45l-7.72 7.72c-.78.78-.78 2.05 0 2.83L4 21.41c.39.39.9.59 1.41.59.51 0 1.02-.2 1.41-.59l7.78-7.78 2.81-2.81c.8-.78.8-2.07 0-2.86zM5.41 20L4 18.59l7.72-7.72 1.47 1.35L5.41 20z\"/>\n",
       "  </svg>\n",
       "      </button>\n",
       "      \n",
       "  <style>\n",
       "    .colab-df-container {\n",
       "      display:flex;\n",
       "      flex-wrap:wrap;\n",
       "      gap: 12px;\n",
       "    }\n",
       "\n",
       "    .colab-df-convert {\n",
       "      background-color: #E8F0FE;\n",
       "      border: none;\n",
       "      border-radius: 50%;\n",
       "      cursor: pointer;\n",
       "      display: none;\n",
       "      fill: #1967D2;\n",
       "      height: 32px;\n",
       "      padding: 0 0 0 0;\n",
       "      width: 32px;\n",
       "    }\n",
       "\n",
       "    .colab-df-convert:hover {\n",
       "      background-color: #E2EBFA;\n",
       "      box-shadow: 0px 1px 2px rgba(60, 64, 67, 0.3), 0px 1px 3px 1px rgba(60, 64, 67, 0.15);\n",
       "      fill: #174EA6;\n",
       "    }\n",
       "\n",
       "    [theme=dark] .colab-df-convert {\n",
       "      background-color: #3B4455;\n",
       "      fill: #D2E3FC;\n",
       "    }\n",
       "\n",
       "    [theme=dark] .colab-df-convert:hover {\n",
       "      background-color: #434B5C;\n",
       "      box-shadow: 0px 1px 3px 1px rgba(0, 0, 0, 0.15);\n",
       "      filter: drop-shadow(0px 1px 2px rgba(0, 0, 0, 0.3));\n",
       "      fill: #FFFFFF;\n",
       "    }\n",
       "  </style>\n",
       "\n",
       "      <script>\n",
       "        const buttonEl =\n",
       "          document.querySelector('#df-659c199d-0cfe-4a47-a096-840f25b24b20 button.colab-df-convert');\n",
       "        buttonEl.style.display =\n",
       "          google.colab.kernel.accessAllowed ? 'block' : 'none';\n",
       "\n",
       "        async function convertToInteractive(key) {\n",
       "          const element = document.querySelector('#df-659c199d-0cfe-4a47-a096-840f25b24b20');\n",
       "          const dataTable =\n",
       "            await google.colab.kernel.invokeFunction('convertToInteractive',\n",
       "                                                     [key], {});\n",
       "          if (!dataTable) return;\n",
       "\n",
       "          const docLinkHtml = 'Like what you see? Visit the ' +\n",
       "            '<a target=\"_blank\" href=https://colab.research.google.com/notebooks/data_table.ipynb>data table notebook</a>'\n",
       "            + ' to learn more about interactive tables.';\n",
       "          element.innerHTML = '';\n",
       "          dataTable['output_type'] = 'display_data';\n",
       "          await google.colab.output.renderOutput(dataTable, element);\n",
       "          const docLink = document.createElement('div');\n",
       "          docLink.innerHTML = docLinkHtml;\n",
       "          element.appendChild(docLink);\n",
       "        }\n",
       "      </script>\n",
       "    </div>\n",
       "  </div>\n",
       "  "
      ],
      "text/plain": [
       "   id  Gender  Lenght  Diameter  Height  Whole Weight  Shucked Weight  \\\n",
       "0   1       2   0.605     0.470   0.115        1.1140          0.3925   \n",
       "1   2       1   0.430     0.315   0.095        0.3780          0.1750   \n",
       "2   3       1   0.580     0.490   0.195        1.3165          0.5305   \n",
       "3   4       2   0.535     0.405   0.175        1.2705          0.5480   \n",
       "4   5       1   0.310     0.235   0.090        0.1270          0.0480   \n",
       "\n",
       "   Viscra Weight  Shell Weight  Target  \n",
       "0         0.2910        0.3100      15  \n",
       "1         0.0800        0.1045       8  \n",
       "2         0.2540        0.4100      18  \n",
       "3         0.3265        0.3370      13  \n",
       "4         0.0310        0.0400       6  "
      ]
     },
     "execution_count": 7,
     "metadata": {},
     "output_type": "execute_result"
    }
   ],
   "source": [
    "train.head()"
   ]
  },
  {
   "cell_type": "code",
   "execution_count": 8,
   "metadata": {
    "colab": {
     "base_uri": "https://localhost:8080/",
     "height": 382
    },
    "executionInfo": {
     "elapsed": 14,
     "status": "ok",
     "timestamp": 1648708375111,
     "user": {
      "displayName": "임소연",
      "userId": "16609908587458212979"
     },
     "user_tz": -540
    },
    "id": "4XswK4e8pQ6Q",
    "outputId": "e585a6da-701f-4d11-d555-353aa439a639"
   },
   "outputs": [
    {
     "data": {
      "text/html": [
       "\n",
       "  <div id=\"df-a6c34b1f-5362-4319-ade3-e0360b7058f3\">\n",
       "    <div class=\"colab-df-container\">\n",
       "      <div>\n",
       "<style scoped>\n",
       "    .dataframe tbody tr th:only-of-type {\n",
       "        vertical-align: middle;\n",
       "    }\n",
       "\n",
       "    .dataframe tbody tr th {\n",
       "        vertical-align: top;\n",
       "    }\n",
       "\n",
       "    .dataframe thead th {\n",
       "        text-align: right;\n",
       "    }\n",
       "</style>\n",
       "<table border=\"1\" class=\"dataframe\">\n",
       "  <thead>\n",
       "    <tr style=\"text-align: right;\">\n",
       "      <th></th>\n",
       "      <th>id</th>\n",
       "      <th>Gender</th>\n",
       "      <th>Lenght</th>\n",
       "      <th>Diameter</th>\n",
       "      <th>Height</th>\n",
       "      <th>Whole Weight</th>\n",
       "      <th>Shucked Weight</th>\n",
       "      <th>Viscra Weight</th>\n",
       "      <th>Shell Weight</th>\n",
       "      <th>Target</th>\n",
       "    </tr>\n",
       "  </thead>\n",
       "  <tbody>\n",
       "    <tr>\n",
       "      <th>count</th>\n",
       "      <td>1253.000000</td>\n",
       "      <td>1253.000000</td>\n",
       "      <td>1253.000000</td>\n",
       "      <td>1253.000000</td>\n",
       "      <td>1253.000000</td>\n",
       "      <td>1253.000000</td>\n",
       "      <td>1253.000000</td>\n",
       "      <td>1253.000000</td>\n",
       "      <td>1253.000000</td>\n",
       "      <td>1253.000000</td>\n",
       "    </tr>\n",
       "    <tr>\n",
       "      <th>mean</th>\n",
       "      <td>627.000000</td>\n",
       "      <td>1.071030</td>\n",
       "      <td>0.522869</td>\n",
       "      <td>0.406963</td>\n",
       "      <td>0.139545</td>\n",
       "      <td>0.831199</td>\n",
       "      <td>0.358818</td>\n",
       "      <td>0.181006</td>\n",
       "      <td>0.240077</td>\n",
       "      <td>9.912211</td>\n",
       "    </tr>\n",
       "    <tr>\n",
       "      <th>std</th>\n",
       "      <td>361.854252</td>\n",
       "      <td>0.820406</td>\n",
       "      <td>0.120231</td>\n",
       "      <td>0.099771</td>\n",
       "      <td>0.039033</td>\n",
       "      <td>0.500491</td>\n",
       "      <td>0.224612</td>\n",
       "      <td>0.111936</td>\n",
       "      <td>0.142574</td>\n",
       "      <td>3.214676</td>\n",
       "    </tr>\n",
       "    <tr>\n",
       "      <th>min</th>\n",
       "      <td>1.000000</td>\n",
       "      <td>0.000000</td>\n",
       "      <td>0.110000</td>\n",
       "      <td>0.090000</td>\n",
       "      <td>0.030000</td>\n",
       "      <td>0.008000</td>\n",
       "      <td>0.002500</td>\n",
       "      <td>0.002000</td>\n",
       "      <td>0.003000</td>\n",
       "      <td>3.000000</td>\n",
       "    </tr>\n",
       "    <tr>\n",
       "      <th>25%</th>\n",
       "      <td>314.000000</td>\n",
       "      <td>0.000000</td>\n",
       "      <td>0.445000</td>\n",
       "      <td>0.345000</td>\n",
       "      <td>0.115000</td>\n",
       "      <td>0.440500</td>\n",
       "      <td>0.182500</td>\n",
       "      <td>0.092500</td>\n",
       "      <td>0.130000</td>\n",
       "      <td>8.000000</td>\n",
       "    </tr>\n",
       "    <tr>\n",
       "      <th>50%</th>\n",
       "      <td>627.000000</td>\n",
       "      <td>1.000000</td>\n",
       "      <td>0.535000</td>\n",
       "      <td>0.420000</td>\n",
       "      <td>0.140000</td>\n",
       "      <td>0.777500</td>\n",
       "      <td>0.326000</td>\n",
       "      <td>0.168000</td>\n",
       "      <td>0.230000</td>\n",
       "      <td>10.000000</td>\n",
       "    </tr>\n",
       "    <tr>\n",
       "      <th>75%</th>\n",
       "      <td>940.000000</td>\n",
       "      <td>2.000000</td>\n",
       "      <td>0.615000</td>\n",
       "      <td>0.480000</td>\n",
       "      <td>0.165000</td>\n",
       "      <td>1.160000</td>\n",
       "      <td>0.505500</td>\n",
       "      <td>0.256500</td>\n",
       "      <td>0.330000</td>\n",
       "      <td>11.000000</td>\n",
       "    </tr>\n",
       "    <tr>\n",
       "      <th>max</th>\n",
       "      <td>1253.000000</td>\n",
       "      <td>2.000000</td>\n",
       "      <td>0.780000</td>\n",
       "      <td>0.630000</td>\n",
       "      <td>0.250000</td>\n",
       "      <td>2.779500</td>\n",
       "      <td>1.488000</td>\n",
       "      <td>0.760000</td>\n",
       "      <td>1.005000</td>\n",
       "      <td>29.000000</td>\n",
       "    </tr>\n",
       "  </tbody>\n",
       "</table>\n",
       "</div>\n",
       "      <button class=\"colab-df-convert\" onclick=\"convertToInteractive('df-a6c34b1f-5362-4319-ade3-e0360b7058f3')\"\n",
       "              title=\"Convert this dataframe to an interactive table.\"\n",
       "              style=\"display:none;\">\n",
       "        \n",
       "  <svg xmlns=\"http://www.w3.org/2000/svg\" height=\"24px\"viewBox=\"0 0 24 24\"\n",
       "       width=\"24px\">\n",
       "    <path d=\"M0 0h24v24H0V0z\" fill=\"none\"/>\n",
       "    <path d=\"M18.56 5.44l.94 2.06.94-2.06 2.06-.94-2.06-.94-.94-2.06-.94 2.06-2.06.94zm-11 1L8.5 8.5l.94-2.06 2.06-.94-2.06-.94L8.5 2.5l-.94 2.06-2.06.94zm10 10l.94 2.06.94-2.06 2.06-.94-2.06-.94-.94-2.06-.94 2.06-2.06.94z\"/><path d=\"M17.41 7.96l-1.37-1.37c-.4-.4-.92-.59-1.43-.59-.52 0-1.04.2-1.43.59L10.3 9.45l-7.72 7.72c-.78.78-.78 2.05 0 2.83L4 21.41c.39.39.9.59 1.41.59.51 0 1.02-.2 1.41-.59l7.78-7.78 2.81-2.81c.8-.78.8-2.07 0-2.86zM5.41 20L4 18.59l7.72-7.72 1.47 1.35L5.41 20z\"/>\n",
       "  </svg>\n",
       "      </button>\n",
       "      \n",
       "  <style>\n",
       "    .colab-df-container {\n",
       "      display:flex;\n",
       "      flex-wrap:wrap;\n",
       "      gap: 12px;\n",
       "    }\n",
       "\n",
       "    .colab-df-convert {\n",
       "      background-color: #E8F0FE;\n",
       "      border: none;\n",
       "      border-radius: 50%;\n",
       "      cursor: pointer;\n",
       "      display: none;\n",
       "      fill: #1967D2;\n",
       "      height: 32px;\n",
       "      padding: 0 0 0 0;\n",
       "      width: 32px;\n",
       "    }\n",
       "\n",
       "    .colab-df-convert:hover {\n",
       "      background-color: #E2EBFA;\n",
       "      box-shadow: 0px 1px 2px rgba(60, 64, 67, 0.3), 0px 1px 3px 1px rgba(60, 64, 67, 0.15);\n",
       "      fill: #174EA6;\n",
       "    }\n",
       "\n",
       "    [theme=dark] .colab-df-convert {\n",
       "      background-color: #3B4455;\n",
       "      fill: #D2E3FC;\n",
       "    }\n",
       "\n",
       "    [theme=dark] .colab-df-convert:hover {\n",
       "      background-color: #434B5C;\n",
       "      box-shadow: 0px 1px 3px 1px rgba(0, 0, 0, 0.15);\n",
       "      filter: drop-shadow(0px 1px 2px rgba(0, 0, 0, 0.3));\n",
       "      fill: #FFFFFF;\n",
       "    }\n",
       "  </style>\n",
       "\n",
       "      <script>\n",
       "        const buttonEl =\n",
       "          document.querySelector('#df-a6c34b1f-5362-4319-ade3-e0360b7058f3 button.colab-df-convert');\n",
       "        buttonEl.style.display =\n",
       "          google.colab.kernel.accessAllowed ? 'block' : 'none';\n",
       "\n",
       "        async function convertToInteractive(key) {\n",
       "          const element = document.querySelector('#df-a6c34b1f-5362-4319-ade3-e0360b7058f3');\n",
       "          const dataTable =\n",
       "            await google.colab.kernel.invokeFunction('convertToInteractive',\n",
       "                                                     [key], {});\n",
       "          if (!dataTable) return;\n",
       "\n",
       "          const docLinkHtml = 'Like what you see? Visit the ' +\n",
       "            '<a target=\"_blank\" href=https://colab.research.google.com/notebooks/data_table.ipynb>data table notebook</a>'\n",
       "            + ' to learn more about interactive tables.';\n",
       "          element.innerHTML = '';\n",
       "          dataTable['output_type'] = 'display_data';\n",
       "          await google.colab.output.renderOutput(dataTable, element);\n",
       "          const docLink = document.createElement('div');\n",
       "          docLink.innerHTML = docLinkHtml;\n",
       "          element.appendChild(docLink);\n",
       "        }\n",
       "      </script>\n",
       "    </div>\n",
       "  </div>\n",
       "  "
      ],
      "text/plain": [
       "                id       Gender       Lenght     Diameter       Height  \\\n",
       "count  1253.000000  1253.000000  1253.000000  1253.000000  1253.000000   \n",
       "mean    627.000000     1.071030     0.522869     0.406963     0.139545   \n",
       "std     361.854252     0.820406     0.120231     0.099771     0.039033   \n",
       "min       1.000000     0.000000     0.110000     0.090000     0.030000   \n",
       "25%     314.000000     0.000000     0.445000     0.345000     0.115000   \n",
       "50%     627.000000     1.000000     0.535000     0.420000     0.140000   \n",
       "75%     940.000000     2.000000     0.615000     0.480000     0.165000   \n",
       "max    1253.000000     2.000000     0.780000     0.630000     0.250000   \n",
       "\n",
       "       Whole Weight  Shucked Weight  Viscra Weight  Shell Weight       Target  \n",
       "count   1253.000000     1253.000000    1253.000000   1253.000000  1253.000000  \n",
       "mean       0.831199        0.358818       0.181006      0.240077     9.912211  \n",
       "std        0.500491        0.224612       0.111936      0.142574     3.214676  \n",
       "min        0.008000        0.002500       0.002000      0.003000     3.000000  \n",
       "25%        0.440500        0.182500       0.092500      0.130000     8.000000  \n",
       "50%        0.777500        0.326000       0.168000      0.230000    10.000000  \n",
       "75%        1.160000        0.505500       0.256500      0.330000    11.000000  \n",
       "max        2.779500        1.488000       0.760000      1.005000    29.000000  "
      ]
     },
     "execution_count": 8,
     "metadata": {},
     "output_type": "execute_result"
    }
   ],
   "source": [
    "train.describe()"
   ]
  },
  {
   "cell_type": "markdown",
   "metadata": {
    "id": "OGHN16UEDUp7"
   },
   "source": [
    "## 시각화"
   ]
  },
  {
   "cell_type": "code",
   "execution_count": 9,
   "metadata": {
    "executionInfo": {
     "elapsed": 14,
     "status": "ok",
     "timestamp": 1648708375113,
     "user": {
      "displayName": "임소연",
      "userId": "16609908587458212979"
     },
     "user_tz": -540
    },
    "id": "iEt6FssapSdl"
   },
   "outputs": [],
   "source": [
    "import seaborn as sns\n",
    "import matplotlib.pyplot as plt"
   ]
  },
  {
   "cell_type": "code",
   "execution_count": 10,
   "metadata": {
    "colab": {
     "base_uri": "https://localhost:8080/",
     "height": 358
    },
    "executionInfo": {
     "elapsed": 2312,
     "status": "ok",
     "timestamp": 1648708377412,
     "user": {
      "displayName": "임소연",
      "userId": "16609908587458212979"
     },
     "user_tz": -540
    },
    "id": "ayeyawETpt0G",
    "outputId": "5fbf090e-a513-4804-e9ab-158f18ad8ff0"
   },
   "outputs": [
    {
     "data": {
      "image/png": "[encoded data removed]",
      "text/plain": [
       "<Figure size 1440x504 with 10 Axes>"
      ]
     },
     "metadata": {
      "needs_background": "light"
     },
     "output_type": "display_data"
    }
   ],
   "source": [
    "f, ax = plt.subplots(2,5, figsize=(20,7))\n",
    "ax = ax.flatten()\n",
    "col_list = list(train.columns)\n",
    "for i in range(len(col_list)):\n",
    "  sns.histplot(data=train, x= col_list[i],ax=ax[i])\n",
    "plt.show()"
   ]
  },
  {
   "cell_type": "code",
   "execution_count": 11,
   "metadata": {
    "colab": {
     "base_uri": "https://localhost:8080/",
     "height": 358
    },
    "executionInfo": {
     "elapsed": 615,
     "status": "ok",
     "timestamp": 1648708378019,
     "user": {
      "displayName": "임소연",
      "userId": "16609908587458212979"
     },
     "user_tz": -540
    },
    "id": "mCWtphPiqDMk",
    "outputId": "6d28f5f1-7e62-46da-caff-f5c72b0de8be"
   },
   "outputs": [
    {
     "data": {
      "text/plain": [
       "<matplotlib.axes._subplots.AxesSubplot at 0x7f58ebfdfb50>"
      ]
     },
     "execution_count": 11,
     "metadata": {},
     "output_type": "execute_result"
    },
    {
     "data": {
      "image/png": "[encoded data removed]",
      "text/plain": [
       "<Figure size 432x288 with 2 Axes>"
      ]
     },
     "metadata": {
      "needs_background": "light"
     },
     "output_type": "display_data"
    }
   ],
   "source": [
    "sns.heatmap(train.corr(), annot = True)"
   ]
  },
  {
   "cell_type": "code",
   "execution_count": 12,
   "metadata": {
    "executionInfo": {
     "elapsed": 12,
     "status": "ok",
     "timestamp": 1648708378022,
     "user": {
      "displayName": "임소연",
      "userId": "16609908587458212979"
     },
     "user_tz": -540
    },
    "id": "pHstjc5Yufem"
   },
   "outputs": [],
   "source": [
    "train.drop(['id', 'Gender'], axis = 1, inplace = True)\n",
    "test.drop(['id', 'Gender'], axis = 1, inplace = True)"
   ]
  },
  {
   "cell_type": "markdown",
   "metadata": {
    "id": "p6_jLxsIDX87"
   },
   "source": [
    "## 모델링"
   ]
  },
  {
   "cell_type": "markdown",
   "metadata": {
    "id": "teT3SA1fDZUF"
   },
   "source": [
    "### pycaret"
   ]
  },
  {
   "cell_type": "code",
   "execution_count": 13,
   "metadata": {
    "executionInfo": {
     "elapsed": 17,
     "status": "ok",
     "timestamp": 1648708378026,
     "user": {
      "displayName": "임소연",
      "userId": "16609908587458212979"
     },
     "user_tz": -540
    },
    "id": "ZMQZr8ektTQs"
   },
   "outputs": [],
   "source": [
    "#!pip install pycaret"
   ]
  },
  {
   "cell_type": "code",
   "execution_count": 14,
   "metadata": {
    "colab": {
     "base_uri": "https://localhost:8080/",
     "height": 1000,
     "referenced_widgets": [
      "f653193788474e1cb1d9ee1ecede65ee",
      "53e0a855e67343bc83251a8245a4404a",
      "44255da4bee64663a8f1563cc0a832a3",
      "067f92c2cca24cbb86968d6a815d13b8",
      "5f2c1fd254a14ddd8dd01cb66f3ef5b2",
      "dfe528ae2bd84b5eb3508fdd8b28dc11"
     ]
    },
    "executionInfo": {
     "elapsed": 6367,
     "status": "ok",
     "timestamp": 1648708384378,
     "user": {
      "displayName": "임소연",
      "userId": "16609908587458212979"
     },
     "user_tz": -540
    },
    "id": "9TEl5FrdqRsF",
    "outputId": "4904f57b-d4b2-4efb-ef8c-ff8063fd5c78"
   },
   "outputs": [
    {
     "data": {
      "text/html": [
       "\n",
       "  <div id=\"df-1844b12a-882c-439b-a422-e90ffc89b57a\">\n",
       "    <div class=\"colab-df-container\">\n",
       "      <div>\n",
       "<style scoped>\n",
       "    .dataframe tbody tr th:only-of-type {\n",
       "        vertical-align: middle;\n",
       "    }\n",
       "\n",
       "    .dataframe tbody tr th {\n",
       "        vertical-align: top;\n",
       "    }\n",
       "\n",
       "    .dataframe thead th {\n",
       "        text-align: right;\n",
       "    }\n",
       "</style>\n",
       "<table border=\"1\" class=\"dataframe\">\n",
       "  <thead>\n",
       "    <tr style=\"text-align: right;\">\n",
       "      <th></th>\n",
       "      <th>Description</th>\n",
       "      <th>Value</th>\n",
       "    </tr>\n",
       "  </thead>\n",
       "  <tbody>\n",
       "    <tr>\n",
       "      <th>0</th>\n",
       "      <td>session_id</td>\n",
       "      <td>1115</td>\n",
       "    </tr>\n",
       "    <tr>\n",
       "      <th>1</th>\n",
       "      <td>Target</td>\n",
       "      <td>Target</td>\n",
       "    </tr>\n",
       "    <tr>\n",
       "      <th>2</th>\n",
       "      <td>Original Data</td>\n",
       "      <td>(1253, 8)</td>\n",
       "    </tr>\n",
       "    <tr>\n",
       "      <th>3</th>\n",
       "      <td>Missing Values</td>\n",
       "      <td>False</td>\n",
       "    </tr>\n",
       "    <tr>\n",
       "      <th>4</th>\n",
       "      <td>Numeric Features</td>\n",
       "      <td>7</td>\n",
       "    </tr>\n",
       "    <tr>\n",
       "      <th>5</th>\n",
       "      <td>Categorical Features</td>\n",
       "      <td>0</td>\n",
       "    </tr>\n",
       "    <tr>\n",
       "      <th>6</th>\n",
       "      <td>Ordinal Features</td>\n",
       "      <td>False</td>\n",
       "    </tr>\n",
       "    <tr>\n",
       "      <th>7</th>\n",
       "      <td>High Cardinality Features</td>\n",
       "      <td>False</td>\n",
       "    </tr>\n",
       "    <tr>\n",
       "      <th>8</th>\n",
       "      <td>High Cardinality Method</td>\n",
       "      <td>None</td>\n",
       "    </tr>\n",
       "    <tr>\n",
       "      <th>9</th>\n",
       "      <td>Transformed Train Set</td>\n",
       "      <td>(1002, 7)</td>\n",
       "    </tr>\n",
       "    <tr>\n",
       "      <th>10</th>\n",
       "      <td>Transformed Test Set</td>\n",
       "      <td>(251, 7)</td>\n",
       "    </tr>\n",
       "    <tr>\n",
       "      <th>11</th>\n",
       "      <td>Shuffle Train-Test</td>\n",
       "      <td>True</td>\n",
       "    </tr>\n",
       "    <tr>\n",
       "      <th>12</th>\n",
       "      <td>Stratify Train-Test</td>\n",
       "      <td>False</td>\n",
       "    </tr>\n",
       "    <tr>\n",
       "      <th>13</th>\n",
       "      <td>Fold Generator</td>\n",
       "      <td>KFold</td>\n",
       "    </tr>\n",
       "    <tr>\n",
       "      <th>14</th>\n",
       "      <td>Fold Number</td>\n",
       "      <td>10</td>\n",
       "    </tr>\n",
       "    <tr>\n",
       "      <th>15</th>\n",
       "      <td>CPU Jobs</td>\n",
       "      <td>-1</td>\n",
       "    </tr>\n",
       "    <tr>\n",
       "      <th>16</th>\n",
       "      <td>Use GPU</td>\n",
       "      <td>False</td>\n",
       "    </tr>\n",
       "    <tr>\n",
       "      <th>17</th>\n",
       "      <td>Log Experiment</td>\n",
       "      <td>False</td>\n",
       "    </tr>\n",
       "    <tr>\n",
       "      <th>18</th>\n",
       "      <td>Experiment Name</td>\n",
       "      <td>reg-default-name</td>\n",
       "    </tr>\n",
       "    <tr>\n",
       "      <th>19</th>\n",
       "      <td>USI</td>\n",
       "      <td>b459</td>\n",
       "    </tr>\n",
       "    <tr>\n",
       "      <th>20</th>\n",
       "      <td>Imputation Type</td>\n",
       "      <td>simple</td>\n",
       "    </tr>\n",
       "    <tr>\n",
       "      <th>21</th>\n",
       "      <td>Iterative Imputation Iteration</td>\n",
       "      <td>None</td>\n",
       "    </tr>\n",
       "    <tr>\n",
       "      <th>22</th>\n",
       "      <td>Numeric Imputer</td>\n",
       "      <td>mean</td>\n",
       "    </tr>\n",
       "    <tr>\n",
       "      <th>23</th>\n",
       "      <td>Iterative Imputation Numeric Model</td>\n",
       "      <td>None</td>\n",
       "    </tr>\n",
       "    <tr>\n",
       "      <th>24</th>\n",
       "      <td>Categorical Imputer</td>\n",
       "      <td>constant</td>\n",
       "    </tr>\n",
       "    <tr>\n",
       "      <th>25</th>\n",
       "      <td>Iterative Imputation Categorical Model</td>\n",
       "      <td>None</td>\n",
       "    </tr>\n",
       "    <tr>\n",
       "      <th>26</th>\n",
       "      <td>Unknown Categoricals Handling</td>\n",
       "      <td>least_frequent</td>\n",
       "    </tr>\n",
       "    <tr>\n",
       "      <th>27</th>\n",
       "      <td>Normalize</td>\n",
       "      <td>False</td>\n",
       "    </tr>\n",
       "    <tr>\n",
       "      <th>28</th>\n",
       "      <td>Normalize Method</td>\n",
       "      <td>None</td>\n",
       "    </tr>\n",
       "    <tr>\n",
       "      <th>29</th>\n",
       "      <td>Transformation</td>\n",
       "      <td>False</td>\n",
       "    </tr>\n",
       "    <tr>\n",
       "      <th>30</th>\n",
       "      <td>Transformation Method</td>\n",
       "      <td>None</td>\n",
       "    </tr>\n",
       "    <tr>\n",
       "      <th>31</th>\n",
       "      <td>PCA</td>\n",
       "      <td>False</td>\n",
       "    </tr>\n",
       "    <tr>\n",
       "      <th>32</th>\n",
       "      <td>PCA Method</td>\n",
       "      <td>None</td>\n",
       "    </tr>\n",
       "    <tr>\n",
       "      <th>33</th>\n",
       "      <td>PCA Components</td>\n",
       "      <td>None</td>\n",
       "    </tr>\n",
       "    <tr>\n",
       "      <th>34</th>\n",
       "      <td>Ignore Low Variance</td>\n",
       "      <td>False</td>\n",
       "    </tr>\n",
       "    <tr>\n",
       "      <th>35</th>\n",
       "      <td>Combine Rare Levels</td>\n",
       "      <td>False</td>\n",
       "    </tr>\n",
       "    <tr>\n",
       "      <th>36</th>\n",
       "      <td>Rare Level Threshold</td>\n",
       "      <td>None</td>\n",
       "    </tr>\n",
       "    <tr>\n",
       "      <th>37</th>\n",
       "      <td>Numeric Binning</td>\n",
       "      <td>False</td>\n",
       "    </tr>\n",
       "    <tr>\n",
       "      <th>38</th>\n",
       "      <td>Remove Outliers</td>\n",
       "      <td>False</td>\n",
       "    </tr>\n",
       "    <tr>\n",
       "      <th>39</th>\n",
       "      <td>Outliers Threshold</td>\n",
       "      <td>None</td>\n",
       "    </tr>\n",
       "    <tr>\n",
       "      <th>40</th>\n",
       "      <td>Remove Multicollinearity</td>\n",
       "      <td>False</td>\n",
       "    </tr>\n",
       "    <tr>\n",
       "      <th>41</th>\n",
       "      <td>Multicollinearity Threshold</td>\n",
       "      <td>None</td>\n",
       "    </tr>\n",
       "    <tr>\n",
       "      <th>42</th>\n",
       "      <td>Remove Perfect Collinearity</td>\n",
       "      <td>True</td>\n",
       "    </tr>\n",
       "    <tr>\n",
       "      <th>43</th>\n",
       "      <td>Clustering</td>\n",
       "      <td>False</td>\n",
       "    </tr>\n",
       "    <tr>\n",
       "      <th>44</th>\n",
       "      <td>Clustering Iteration</td>\n",
       "      <td>None</td>\n",
       "    </tr>\n",
       "    <tr>\n",
       "      <th>45</th>\n",
       "      <td>Polynomial Features</td>\n",
       "      <td>False</td>\n",
       "    </tr>\n",
       "    <tr>\n",
       "      <th>46</th>\n",
       "      <td>Polynomial Degree</td>\n",
       "      <td>None</td>\n",
       "    </tr>\n",
       "    <tr>\n",
       "      <th>47</th>\n",
       "      <td>Trignometry Features</td>\n",
       "      <td>False</td>\n",
       "    </tr>\n",
       "    <tr>\n",
       "      <th>48</th>\n",
       "      <td>Polynomial Threshold</td>\n",
       "      <td>None</td>\n",
       "    </tr>\n",
       "    <tr>\n",
       "      <th>49</th>\n",
       "      <td>Group Features</td>\n",
       "      <td>False</td>\n",
       "    </tr>\n",
       "    <tr>\n",
       "      <th>50</th>\n",
       "      <td>Feature Selection</td>\n",
       "      <td>False</td>\n",
       "    </tr>\n",
       "    <tr>\n",
       "      <th>51</th>\n",
       "      <td>Feature Selection Method</td>\n",
       "      <td>classic</td>\n",
       "    </tr>\n",
       "    <tr>\n",
       "      <th>52</th>\n",
       "      <td>Features Selection Threshold</td>\n",
       "      <td>None</td>\n",
       "    </tr>\n",
       "    <tr>\n",
       "      <th>53</th>\n",
       "      <td>Feature Interaction</td>\n",
       "      <td>False</td>\n",
       "    </tr>\n",
       "    <tr>\n",
       "      <th>54</th>\n",
       "      <td>Feature Ratio</td>\n",
       "      <td>False</td>\n",
       "    </tr>\n",
       "    <tr>\n",
       "      <th>55</th>\n",
       "      <td>Interaction Threshold</td>\n",
       "      <td>None</td>\n",
       "    </tr>\n",
       "    <tr>\n",
       "      <th>56</th>\n",
       "      <td>Transform Target</td>\n",
       "      <td>False</td>\n",
       "    </tr>\n",
       "    <tr>\n",
       "      <th>57</th>\n",
       "      <td>Transform Target Method</td>\n",
       "      <td>box-cox</td>\n",
       "    </tr>\n",
       "  </tbody>\n",
       "</table>\n",
       "</div>\n",
       "      <button class=\"colab-df-convert\" onclick=\"convertToInteractive('df-1844b12a-882c-439b-a422-e90ffc89b57a')\"\n",
       "              title=\"Convert this dataframe to an interactive table.\"\n",
       "              style=\"display:none;\">\n",
       "        \n",
       "  <svg xmlns=\"http://www.w3.org/2000/svg\" height=\"24px\"viewBox=\"0 0 24 24\"\n",
       "       width=\"24px\">\n",
       "    <path d=\"M0 0h24v24H0V0z\" fill=\"none\"/>\n",
       "    <path d=\"M18.56 5.44l.94 2.06.94-2.06 2.06-.94-2.06-.94-.94-2.06-.94 2.06-2.06.94zm-11 1L8.5 8.5l.94-2.06 2.06-.94-2.06-.94L8.5 2.5l-.94 2.06-2.06.94zm10 10l.94 2.06.94-2.06 2.06-.94-2.06-.94-.94-2.06-.94 2.06-2.06.94z\"/><path d=\"M17.41 7.96l-1.37-1.37c-.4-.4-.92-.59-1.43-.59-.52 0-1.04.2-1.43.59L10.3 9.45l-7.72 7.72c-.78.78-.78 2.05 0 2.83L4 21.41c.39.39.9.59 1.41.59.51 0 1.02-.2 1.41-.59l7.78-7.78 2.81-2.81c.8-.78.8-2.07 0-2.86zM5.41 20L4 18.59l7.72-7.72 1.47 1.35L5.41 20z\"/>\n",
       "  </svg>\n",
       "      </button>\n",
       "      \n",
       "  <style>\n",
       "    .colab-df-container {\n",
       "      display:flex;\n",
       "      flex-wrap:wrap;\n",
       "      gap: 12px;\n",
       "    }\n",
       "\n",
       "    .colab-df-convert {\n",
       "      background-color: #E8F0FE;\n",
       "      border: none;\n",
       "      border-radius: 50%;\n",
       "      cursor: pointer;\n",
       "      display: none;\n",
       "      fill: #1967D2;\n",
       "      height: 32px;\n",
       "      padding: 0 0 0 0;\n",
       "      width: 32px;\n",
       "    }\n",
       "\n",
       "    .colab-df-convert:hover {\n",
       "      background-color: #E2EBFA;\n",
       "      box-shadow: 0px 1px 2px rgba(60, 64, 67, 0.3), 0px 1px 3px 1px rgba(60, 64, 67, 0.15);\n",
       "      fill: #174EA6;\n",
       "    }\n",
       "\n",
       "    [theme=dark] .colab-df-convert {\n",
       "      background-color: #3B4455;\n",
       "      fill: #D2E3FC;\n",
       "    }\n",
       "\n",
       "    [theme=dark] .colab-df-convert:hover {\n",
       "      background-color: #434B5C;\n",
       "      box-shadow: 0px 1px 3px 1px rgba(0, 0, 0, 0.15);\n",
       "      filter: drop-shadow(0px 1px 2px rgba(0, 0, 0, 0.3));\n",
       "      fill: #FFFFFF;\n",
       "    }\n",
       "  </style>\n",
       "\n",
       "      <script>\n",
       "        const buttonEl =\n",
       "          document.querySelector('#df-1844b12a-882c-439b-a422-e90ffc89b57a button.colab-df-convert');\n",
       "        buttonEl.style.display =\n",
       "          google.colab.kernel.accessAllowed ? 'block' : 'none';\n",
       "\n",
       "        async function convertToInteractive(key) {\n",
       "          const element = document.querySelector('#df-1844b12a-882c-439b-a422-e90ffc89b57a');\n",
       "          const dataTable =\n",
       "            await google.colab.kernel.invokeFunction('convertToInteractive',\n",
       "                                                     [key], {});\n",
       "          if (!dataTable) return;\n",
       "\n",
       "          const docLinkHtml = 'Like what you see? Visit the ' +\n",
       "            '<a target=\"_blank\" href=https://colab.research.google.com/notebooks/data_table.ipynb>data table notebook</a>'\n",
       "            + ' to learn more about interactive tables.';\n",
       "          element.innerHTML = '';\n",
       "          dataTable['output_type'] = 'display_data';\n",
       "          await google.colab.output.renderOutput(dataTable, element);\n",
       "          const docLink = document.createElement('div');\n",
       "          docLink.innerHTML = docLinkHtml;\n",
       "          element.appendChild(docLink);\n",
       "        }\n",
       "      </script>\n",
       "    </div>\n",
       "  </div>\n",
       "  "
      ],
      "text/plain": [
       "                               Description             Value\n",
       "0                               session_id              1115\n",
       "1                                   Target            Target\n",
       "2                            Original Data         (1253, 8)\n",
       "3                           Missing Values             False\n",
       "4                         Numeric Features                 7\n",
       "5                     Categorical Features                 0\n",
       "6                         Ordinal Features             False\n",
       "7                High Cardinality Features             False\n",
       "8                  High Cardinality Method              None\n",
       "9                    Transformed Train Set         (1002, 7)\n",
       "10                    Transformed Test Set          (251, 7)\n",
       "11                      Shuffle Train-Test              True\n",
       "12                     Stratify Train-Test             False\n",
       "13                          Fold Generator             KFold\n",
       "14                             Fold Number                10\n",
       "15                                CPU Jobs                -1\n",
       "16                                 Use GPU             False\n",
       "17                          Log Experiment             False\n",
       "18                         Experiment Name  reg-default-name\n",
       "19                                     USI              b459\n",
       "20                         Imputation Type            simple\n",
       "21          Iterative Imputation Iteration              None\n",
       "22                         Numeric Imputer              mean\n",
       "23      Iterative Imputation Numeric Model              None\n",
       "24                     Categorical Imputer          constant\n",
       "25  Iterative Imputation Categorical Model              None\n",
       "26           Unknown Categoricals Handling    least_frequent\n",
       "27                               Normalize             False\n",
       "28                        Normalize Method              None\n",
       "29                          Transformation             False\n",
       "30                   Transformation Method              None\n",
       "31                                     PCA             False\n",
       "32                              PCA Method              None\n",
       "33                          PCA Components              None\n",
       "34                     Ignore Low Variance             False\n",
       "35                     Combine Rare Levels             False\n",
       "36                    Rare Level Threshold              None\n",
       "37                         Numeric Binning             False\n",
       "38                         Remove Outliers             False\n",
       "39                      Outliers Threshold              None\n",
       "40                Remove Multicollinearity             False\n",
       "41             Multicollinearity Threshold              None\n",
       "42             Remove Perfect Collinearity              True\n",
       "43                              Clustering             False\n",
       "44                    Clustering Iteration              None\n",
       "45                     Polynomial Features             False\n",
       "46                       Polynomial Degree              None\n",
       "47                    Trignometry Features             False\n",
       "48                    Polynomial Threshold              None\n",
       "49                          Group Features             False\n",
       "50                       Feature Selection             False\n",
       "51                Feature Selection Method           classic\n",
       "52            Features Selection Threshold              None\n",
       "53                     Feature Interaction             False\n",
       "54                           Feature Ratio             False\n",
       "55                   Interaction Threshold              None\n",
       "56                        Transform Target             False\n",
       "57                 Transform Target Method           box-cox"
      ]
     },
     "metadata": {},
     "output_type": "display_data"
    }
   ],
   "source": [
    "from pycaret.regression import *\n",
    "\n",
    "df = setup(data = train, target = 'Target', train_size=0.8, session_id = 1115)"
   ]
  },
  {
   "cell_type": "code",
   "execution_count": 15,
   "metadata": {
    "colab": {
     "base_uri": "https://localhost:8080/",
     "height": 614,
     "referenced_widgets": [
      "b4b2b3c85580461088b69ea512aedbfa",
      "2906a19b9cee4a58ab99b72283a106c3",
      "9d56e63994134e378e716321d1e9a708"
     ]
    },
    "executionInfo": {
     "elapsed": 25663,
     "status": "ok",
     "timestamp": 1648708410011,
     "user": {
      "displayName": "임소연",
      "userId": "16609908587458212979"
     },
     "user_tz": -540
    },
    "id": "dEL0KZvJtRl8",
    "outputId": "23c37dd9-70a8-41e7-8c33-ea2e602a0f79"
   },
   "outputs": [
    {
     "data": {
      "text/html": [
       "\n",
       "  <div id=\"df-961b87db-f231-40ea-9d5f-405f0caa927e\">\n",
       "    <div class=\"colab-df-container\">\n",
       "      <div>\n",
       "<style scoped>\n",
       "    .dataframe tbody tr th:only-of-type {\n",
       "        vertical-align: middle;\n",
       "    }\n",
       "\n",
       "    .dataframe tbody tr th {\n",
       "        vertical-align: top;\n",
       "    }\n",
       "\n",
       "    .dataframe thead th {\n",
       "        text-align: right;\n",
       "    }\n",
       "</style>\n",
       "<table border=\"1\" class=\"dataframe\">\n",
       "  <thead>\n",
       "    <tr style=\"text-align: right;\">\n",
       "      <th></th>\n",
       "      <th>Model</th>\n",
       "      <th>MAE</th>\n",
       "      <th>MSE</th>\n",
       "      <th>RMSE</th>\n",
       "      <th>R2</th>\n",
       "      <th>RMSLE</th>\n",
       "      <th>MAPE</th>\n",
       "      <th>TT (Sec)</th>\n",
       "    </tr>\n",
       "  </thead>\n",
       "  <tbody>\n",
       "    <tr>\n",
       "      <th>huber</th>\n",
       "      <td>Huber Regressor</td>\n",
       "      <td>1.6102</td>\n",
       "      <td>5.5565</td>\n",
       "      <td>2.3453</td>\n",
       "      <td>0.4817</td>\n",
       "      <td>0.1911</td>\n",
       "      <td>0.1540</td>\n",
       "      <td>0.041</td>\n",
       "    </tr>\n",
       "    <tr>\n",
       "      <th>lr</th>\n",
       "      <td>Linear Regression</td>\n",
       "      <td>1.6643</td>\n",
       "      <td>5.4067</td>\n",
       "      <td>2.3154</td>\n",
       "      <td>0.4944</td>\n",
       "      <td>0.1889</td>\n",
       "      <td>0.1678</td>\n",
       "      <td>0.318</td>\n",
       "    </tr>\n",
       "    <tr>\n",
       "      <th>lar</th>\n",
       "      <td>Least Angle Regression</td>\n",
       "      <td>1.6643</td>\n",
       "      <td>5.4066</td>\n",
       "      <td>2.3154</td>\n",
       "      <td>0.4944</td>\n",
       "      <td>0.1889</td>\n",
       "      <td>0.1678</td>\n",
       "      <td>0.013</td>\n",
       "    </tr>\n",
       "    <tr>\n",
       "      <th>br</th>\n",
       "      <td>Bayesian Ridge</td>\n",
       "      <td>1.6643</td>\n",
       "      <td>5.4041</td>\n",
       "      <td>2.3149</td>\n",
       "      <td>0.4946</td>\n",
       "      <td>0.1890</td>\n",
       "      <td>0.1678</td>\n",
       "      <td>0.013</td>\n",
       "    </tr>\n",
       "    <tr>\n",
       "      <th>rf</th>\n",
       "      <td>Random Forest Regressor</td>\n",
       "      <td>1.6886</td>\n",
       "      <td>5.6696</td>\n",
       "      <td>2.3744</td>\n",
       "      <td>0.4707</td>\n",
       "      <td>0.1923</td>\n",
       "      <td>0.1683</td>\n",
       "      <td>0.601</td>\n",
       "    </tr>\n",
       "    <tr>\n",
       "      <th>knn</th>\n",
       "      <td>K Neighbors Regressor</td>\n",
       "      <td>1.6893</td>\n",
       "      <td>5.7616</td>\n",
       "      <td>2.3922</td>\n",
       "      <td>0.4632</td>\n",
       "      <td>0.1953</td>\n",
       "      <td>0.1670</td>\n",
       "      <td>0.061</td>\n",
       "    </tr>\n",
       "    <tr>\n",
       "      <th>et</th>\n",
       "      <td>Extra Trees Regressor</td>\n",
       "      <td>1.6967</td>\n",
       "      <td>5.6594</td>\n",
       "      <td>2.3707</td>\n",
       "      <td>0.4711</td>\n",
       "      <td>0.1912</td>\n",
       "      <td>0.1693</td>\n",
       "      <td>0.455</td>\n",
       "    </tr>\n",
       "    <tr>\n",
       "      <th>ridge</th>\n",
       "      <td>Ridge Regression</td>\n",
       "      <td>1.6981</td>\n",
       "      <td>5.6121</td>\n",
       "      <td>2.3594</td>\n",
       "      <td>0.4760</td>\n",
       "      <td>0.1966</td>\n",
       "      <td>0.1721</td>\n",
       "      <td>0.011</td>\n",
       "    </tr>\n",
       "    <tr>\n",
       "      <th>gbr</th>\n",
       "      <td>Gradient Boosting Regressor</td>\n",
       "      <td>1.7346</td>\n",
       "      <td>5.9933</td>\n",
       "      <td>2.4397</td>\n",
       "      <td>0.4418</td>\n",
       "      <td>0.1950</td>\n",
       "      <td>0.1709</td>\n",
       "      <td>0.263</td>\n",
       "    </tr>\n",
       "    <tr>\n",
       "      <th>lightgbm</th>\n",
       "      <td>Light Gradient Boosting Machine</td>\n",
       "      <td>1.7671</td>\n",
       "      <td>5.9807</td>\n",
       "      <td>2.4404</td>\n",
       "      <td>0.4397</td>\n",
       "      <td>0.1985</td>\n",
       "      <td>0.1751</td>\n",
       "      <td>0.164</td>\n",
       "    </tr>\n",
       "    <tr>\n",
       "      <th>omp</th>\n",
       "      <td>Orthogonal Matching Pursuit</td>\n",
       "      <td>1.8579</td>\n",
       "      <td>6.5831</td>\n",
       "      <td>2.5577</td>\n",
       "      <td>0.3853</td>\n",
       "      <td>0.2106</td>\n",
       "      <td>0.1873</td>\n",
       "      <td>0.011</td>\n",
       "    </tr>\n",
       "    <tr>\n",
       "      <th>dt</th>\n",
       "      <td>Decision Tree Regressor</td>\n",
       "      <td>2.1394</td>\n",
       "      <td>9.4817</td>\n",
       "      <td>3.0652</td>\n",
       "      <td>0.1139</td>\n",
       "      <td>0.2476</td>\n",
       "      <td>0.2121</td>\n",
       "      <td>0.017</td>\n",
       "    </tr>\n",
       "    <tr>\n",
       "      <th>par</th>\n",
       "      <td>Passive Aggressive Regressor</td>\n",
       "      <td>2.2491</td>\n",
       "      <td>9.3505</td>\n",
       "      <td>2.9383</td>\n",
       "      <td>0.1155</td>\n",
       "      <td>0.2419</td>\n",
       "      <td>0.2295</td>\n",
       "      <td>0.012</td>\n",
       "    </tr>\n",
       "    <tr>\n",
       "      <th>ada</th>\n",
       "      <td>AdaBoost Regressor</td>\n",
       "      <td>2.2850</td>\n",
       "      <td>7.7731</td>\n",
       "      <td>2.7826</td>\n",
       "      <td>0.2575</td>\n",
       "      <td>0.2362</td>\n",
       "      <td>0.2487</td>\n",
       "      <td>0.074</td>\n",
       "    </tr>\n",
       "    <tr>\n",
       "      <th>en</th>\n",
       "      <td>Elastic Net</td>\n",
       "      <td>2.3114</td>\n",
       "      <td>10.0598</td>\n",
       "      <td>3.1627</td>\n",
       "      <td>0.0676</td>\n",
       "      <td>0.2772</td>\n",
       "      <td>0.2560</td>\n",
       "      <td>0.012</td>\n",
       "    </tr>\n",
       "    <tr>\n",
       "      <th>lasso</th>\n",
       "      <td>Lasso Regression</td>\n",
       "      <td>2.4272</td>\n",
       "      <td>10.9972</td>\n",
       "      <td>3.3072</td>\n",
       "      <td>-0.0197</td>\n",
       "      <td>0.2917</td>\n",
       "      <td>0.2712</td>\n",
       "      <td>0.013</td>\n",
       "    </tr>\n",
       "    <tr>\n",
       "      <th>llar</th>\n",
       "      <td>Lasso Least Angle Regression</td>\n",
       "      <td>2.4272</td>\n",
       "      <td>10.9972</td>\n",
       "      <td>3.3072</td>\n",
       "      <td>-0.0197</td>\n",
       "      <td>0.2917</td>\n",
       "      <td>0.2712</td>\n",
       "      <td>0.011</td>\n",
       "    </tr>\n",
       "    <tr>\n",
       "      <th>dummy</th>\n",
       "      <td>Dummy Regressor</td>\n",
       "      <td>2.4272</td>\n",
       "      <td>10.9972</td>\n",
       "      <td>3.3072</td>\n",
       "      <td>-0.0197</td>\n",
       "      <td>0.2917</td>\n",
       "      <td>0.2712</td>\n",
       "      <td>0.012</td>\n",
       "    </tr>\n",
       "  </tbody>\n",
       "</table>\n",
       "</div>\n",
       "      <button class=\"colab-df-convert\" onclick=\"convertToInteractive('df-961b87db-f231-40ea-9d5f-405f0caa927e')\"\n",
       "              title=\"Convert this dataframe to an interactive table.\"\n",
       "              style=\"display:none;\">\n",
       "        \n",
       "  <svg xmlns=\"http://www.w3.org/2000/svg\" height=\"24px\"viewBox=\"0 0 24 24\"\n",
       "       width=\"24px\">\n",
       "    <path d=\"M0 0h24v24H0V0z\" fill=\"none\"/>\n",
       "    <path d=\"M18.56 5.44l.94 2.06.94-2.06 2.06-.94-2.06-.94-.94-2.06-.94 2.06-2.06.94zm-11 1L8.5 8.5l.94-2.06 2.06-.94-2.06-.94L8.5 2.5l-.94 2.06-2.06.94zm10 10l.94 2.06.94-2.06 2.06-.94-2.06-.94-.94-2.06-.94 2.06-2.06.94z\"/><path d=\"M17.41 7.96l-1.37-1.37c-.4-.4-.92-.59-1.43-.59-.52 0-1.04.2-1.43.59L10.3 9.45l-7.72 7.72c-.78.78-.78 2.05 0 2.83L4 21.41c.39.39.9.59 1.41.59.51 0 1.02-.2 1.41-.59l7.78-7.78 2.81-2.81c.8-.78.8-2.07 0-2.86zM5.41 20L4 18.59l7.72-7.72 1.47 1.35L5.41 20z\"/>\n",
       "  </svg>\n",
       "      </button>\n",
       "      \n",
       "  <style>\n",
       "    .colab-df-container {\n",
       "      display:flex;\n",
       "      flex-wrap:wrap;\n",
       "      gap: 12px;\n",
       "    }\n",
       "\n",
       "    .colab-df-convert {\n",
       "      background-color: #E8F0FE;\n",
       "      border: none;\n",
       "      border-radius: 50%;\n",
       "      cursor: pointer;\n",
       "      display: none;\n",
       "      fill: #1967D2;\n",
       "      height: 32px;\n",
       "      padding: 0 0 0 0;\n",
       "      width: 32px;\n",
       "    }\n",
       "\n",
       "    .colab-df-convert:hover {\n",
       "      background-color: #E2EBFA;\n",
       "      box-shadow: 0px 1px 2px rgba(60, 64, 67, 0.3), 0px 1px 3px 1px rgba(60, 64, 67, 0.15);\n",
       "      fill: #174EA6;\n",
       "    }\n",
       "\n",
       "    [theme=dark] .colab-df-convert {\n",
       "      background-color: #3B4455;\n",
       "      fill: #D2E3FC;\n",
       "    }\n",
       "\n",
       "    [theme=dark] .colab-df-convert:hover {\n",
       "      background-color: #434B5C;\n",
       "      box-shadow: 0px 1px 3px 1px rgba(0, 0, 0, 0.15);\n",
       "      filter: drop-shadow(0px 1px 2px rgba(0, 0, 0, 0.3));\n",
       "      fill: #FFFFFF;\n",
       "    }\n",
       "  </style>\n",
       "\n",
       "      <script>\n",
       "        const buttonEl =\n",
       "          document.querySelector('#df-961b87db-f231-40ea-9d5f-405f0caa927e button.colab-df-convert');\n",
       "        buttonEl.style.display =\n",
       "          google.colab.kernel.accessAllowed ? 'block' : 'none';\n",
       "\n",
       "        async function convertToInteractive(key) {\n",
       "          const element = document.querySelector('#df-961b87db-f231-40ea-9d5f-405f0caa927e');\n",
       "          const dataTable =\n",
       "            await google.colab.kernel.invokeFunction('convertToInteractive',\n",
       "                                                     [key], {});\n",
       "          if (!dataTable) return;\n",
       "\n",
       "          const docLinkHtml = 'Like what you see? Visit the ' +\n",
       "            '<a target=\"_blank\" href=https://colab.research.google.com/notebooks/data_table.ipynb>data table notebook</a>'\n",
       "            + ' to learn more about interactive tables.';\n",
       "          element.innerHTML = '';\n",
       "          dataTable['output_type'] = 'display_data';\n",
       "          await google.colab.output.renderOutput(dataTable, element);\n",
       "          const docLink = document.createElement('div');\n",
       "          docLink.innerHTML = docLinkHtml;\n",
       "          element.appendChild(docLink);\n",
       "        }\n",
       "      </script>\n",
       "    </div>\n",
       "  </div>\n",
       "  "
      ],
      "text/plain": [
       "                                    Model     MAE      MSE    RMSE      R2  \\\n",
       "huber                     Huber Regressor  1.6102   5.5565  2.3453  0.4817   \n",
       "lr                      Linear Regression  1.6643   5.4067  2.3154  0.4944   \n",
       "lar                Least Angle Regression  1.6643   5.4066  2.3154  0.4944   \n",
       "br                         Bayesian Ridge  1.6643   5.4041  2.3149  0.4946   \n",
       "rf                Random Forest Regressor  1.6886   5.6696  2.3744  0.4707   \n",
       "knn                 K Neighbors Regressor  1.6893   5.7616  2.3922  0.4632   \n",
       "et                  Extra Trees Regressor  1.6967   5.6594  2.3707  0.4711   \n",
       "ridge                    Ridge Regression  1.6981   5.6121  2.3594  0.4760   \n",
       "gbr           Gradient Boosting Regressor  1.7346   5.9933  2.4397  0.4418   \n",
       "lightgbm  Light Gradient Boosting Machine  1.7671   5.9807  2.4404  0.4397   \n",
       "omp           Orthogonal Matching Pursuit  1.8579   6.5831  2.5577  0.3853   \n",
       "dt                Decision Tree Regressor  2.1394   9.4817  3.0652  0.1139   \n",
       "par          Passive Aggressive Regressor  2.2491   9.3505  2.9383  0.1155   \n",
       "ada                    AdaBoost Regressor  2.2850   7.7731  2.7826  0.2575   \n",
       "en                            Elastic Net  2.3114  10.0598  3.1627  0.0676   \n",
       "lasso                    Lasso Regression  2.4272  10.9972  3.3072 -0.0197   \n",
       "llar         Lasso Least Angle Regression  2.4272  10.9972  3.3072 -0.0197   \n",
       "dummy                     Dummy Regressor  2.4272  10.9972  3.3072 -0.0197   \n",
       "\n",
       "           RMSLE    MAPE  TT (Sec)  \n",
       "huber     0.1911  0.1540     0.041  \n",
       "lr        0.1889  0.1678     0.318  \n",
       "lar       0.1889  0.1678     0.013  \n",
       "br        0.1890  0.1678     0.013  \n",
       "rf        0.1923  0.1683     0.601  \n",
       "knn       0.1953  0.1670     0.061  \n",
       "et        0.1912  0.1693     0.455  \n",
       "ridge     0.1966  0.1721     0.011  \n",
       "gbr       0.1950  0.1709     0.263  \n",
       "lightgbm  0.1985  0.1751     0.164  \n",
       "omp       0.2106  0.1873     0.011  \n",
       "dt        0.2476  0.2121     0.017  \n",
       "par       0.2419  0.2295     0.012  \n",
       "ada       0.2362  0.2487     0.074  \n",
       "en        0.2772  0.2560     0.012  \n",
       "lasso     0.2917  0.2712     0.013  \n",
       "llar      0.2917  0.2712     0.011  \n",
       "dummy     0.2917  0.2712     0.012  "
      ]
     },
     "metadata": {},
     "output_type": "display_data"
    }
   ],
   "source": [
    "best = compare_models(sort='MAE')"
   ]
  },
  {
   "cell_type": "code",
   "execution_count": 16,
   "metadata": {
    "executionInfo": {
     "elapsed": 45,
     "status": "ok",
     "timestamp": 1648708410014,
     "user": {
      "displayName": "임소연",
      "userId": "16609908587458212979"
     },
     "user_tz": -540
    },
    "id": "Jc0rWjB5xOZn"
   },
   "outputs": [],
   "source": [
    "from sklearn.model_selection import KFold\n",
    "kf = KFold(n_splits = 10, random_state = 1115, shuffle = True)"
   ]
  },
  {
   "cell_type": "code",
   "execution_count": 18,
   "metadata": {
    "executionInfo": {
     "elapsed": 43,
     "status": "ok",
     "timestamp": 1648708410018,
     "user": {
      "displayName": "임소연",
      "userId": "16609908587458212979"
     },
     "user_tz": -540
    },
    "id": "PE8azqs4zeST"
   },
   "outputs": [],
   "source": [
    "from sklearn.metrics import mean_squared_error"
   ]
  },
  {
   "cell_type": "code",
   "execution_count": 23,
   "metadata": {
    "executionInfo": {
     "elapsed": 361,
     "status": "ok",
     "timestamp": 1648708482572,
     "user": {
      "displayName": "임소연",
      "userId": "16609908587458212979"
     },
     "user_tz": -540
    },
    "id": "C4DeL_BUyabe"
   },
   "outputs": [],
   "source": [
    "X = train.drop('Target',axis = 1)\n",
    "y = train['Target']\n",
    "target = test"
   ]
  },
  {
   "cell_type": "code",
   "execution_count": 17,
   "metadata": {
    "executionInfo": {
     "elapsed": 43,
     "status": "ok",
     "timestamp": 1648708410016,
     "user": {
      "displayName": "임소연",
      "userId": "16609908587458212979"
     },
     "user_tz": -540
    },
    "id": "sERbDxXix4Dk"
   },
   "outputs": [],
   "source": [
    "import numpy as np\n",
    "from sklearn.linear_model import HuberRegressor, LinearRegression"
   ]
  },
  {
   "cell_type": "markdown",
   "metadata": {
    "id": "hjqi6puqDjWd"
   },
   "source": [
    "### Huber Regressor"
   ]
  },
  {
   "cell_type": "code",
   "execution_count": 24,
   "metadata": {
    "executionInfo": {
     "elapsed": 423,
     "status": "ok",
     "timestamp": 1648708484333,
     "user": {
      "displayName": "임소연",
      "userId": "16609908587458212979"
     },
     "user_tz": -540
    },
    "id": "HCOndNa8ymNj"
   },
   "outputs": [],
   "source": [
    "huber = HuberRegressor().fit(X, y)"
   ]
  },
  {
   "cell_type": "code",
   "execution_count": 25,
   "metadata": {
    "colab": {
     "base_uri": "https://localhost:8080/"
    },
    "executionInfo": {
     "elapsed": 1415,
     "status": "ok",
     "timestamp": 1648708492850,
     "user": {
      "displayName": "임소연",
      "userId": "16609908587458212979"
     },
     "user_tz": -540
    },
    "id": "2J8o9ookzMkL",
    "outputId": "5c102269-aa2c-44d2-ba0f-eedd12df3019"
   },
   "outputs": [
    {
     "name": "stdout",
     "output_type": "stream",
     "text": [
      "HuberRegressor의 10fold 평균 NMAE는 0.5354788346653223\n"
     ]
    }
   ],
   "source": [
    "huber_pred = np.zeros((target.shape[0]))\n",
    "nmae_list = []\n",
    "for tr_idx, val_idx in kf.split(X, y) :\n",
    "    tr_x, tr_y = X.iloc[tr_idx], y.iloc[tr_idx]\n",
    "    val_x, val_y = X.iloc[val_idx], y.iloc[val_idx]\n",
    "    \n",
    "    huber.fit(tr_x, tr_y)\n",
    "    pred = huber.predict(val_x)\n",
    "\n",
    "    nmae = mean_squared_error(val_y, pred) / np.mean(np.abs(val_y))\n",
    "    nmae_list.append(nmae)\n",
    "    \n",
    "    sub_pred = huber.predict(target) / 10\n",
    "    huber_pred += sub_pred\n",
    "print(f'{huber.__class__.__name__}의 10fold 평균 NMAE는 {np.mean(nmae_list)}')"
   ]
  },
  {
   "cell_type": "code",
   "execution_count": 37,
   "metadata": {
    "executionInfo": {
     "elapsed": 331,
     "status": "ok",
     "timestamp": 1648709311847,
     "user": {
      "displayName": "임소연",
      "userId": "16609908587458212979"
     },
     "user_tz": -540
    },
    "id": "vvw8MiGprpbQ"
   },
   "outputs": [],
   "source": [
    "submission['Target'] = huber_pred\n",
    "submission.to_csv('huber1.csv',index = False)"
   ]
  },
  {
   "cell_type": "markdown",
   "metadata": {
    "id": "xMFeSARtDnLc"
   },
   "source": [
    "### Linear Regression"
   ]
  },
  {
   "cell_type": "code",
   "execution_count": 62,
   "metadata": {
    "executionInfo": {
     "elapsed": 326,
     "status": "ok",
     "timestamp": 1648712832315,
     "user": {
      "displayName": "임소연",
      "userId": "16609908587458212979"
     },
     "user_tz": -540
    },
    "id": "B86S7M2Xr2bH"
   },
   "outputs": [],
   "source": [
    "lr = LinearRegression().fit(X, y)"
   ]
  },
  {
   "cell_type": "code",
   "execution_count": 63,
   "metadata": {
    "colab": {
     "base_uri": "https://localhost:8080/"
    },
    "executionInfo": {
     "elapsed": 478,
     "status": "ok",
     "timestamp": 1648712833247,
     "user": {
      "displayName": "임소연",
      "userId": "16609908587458212979"
     },
     "user_tz": -540
    },
    "id": "6zg_RikpsAbZ",
    "outputId": "b8e071a6-b7a1-4275-ff97-2ac90609de32"
   },
   "outputs": [
    {
     "name": "stdout",
     "output_type": "stream",
     "text": [
      "LinearRegression의 10fold 평균 NMAE는 0.5208505937517176\n"
     ]
    }
   ],
   "source": [
    "lr_pred = np.zeros((target.shape[0]))\n",
    "nmae_list = []\n",
    "for tr_idx, val_idx in kf.split(X, y) :\n",
    "    tr_x, tr_y = X.iloc[tr_idx], y.iloc[tr_idx]\n",
    "    val_x, val_y = X.iloc[val_idx], y.iloc[val_idx]\n",
    "    \n",
    "    lr.fit(tr_x, tr_y)\n",
    "    pred = lr.predict(val_x)\n",
    "\n",
    "    nmae = mean_squared_error(val_y, pred) / np.mean(np.abs(val_y))\n",
    "    nmae_list.append(nmae)\n",
    "    \n",
    "    sub_pred = lr.predict(target) / 10\n",
    "    lr_pred += sub_pred\n",
    "print(f'{lr.__class__.__name__}의 10fold 평균 NMAE는 {np.mean(nmae_list)}')"
   ]
  },
  {
   "cell_type": "code",
   "execution_count": 65,
   "metadata": {
    "executionInfo": {
     "elapsed": 350,
     "status": "ok",
     "timestamp": 1648712848898,
     "user": {
      "displayName": "임소연",
      "userId": "16609908587458212979"
     },
     "user_tz": -540
    },
    "id": "OnzhESAouRO_"
   },
   "outputs": [],
   "source": [
    "submission['Target'] = lr_pred\n",
    "submission.to_csv('lr1.csv',index = False)"
   ]
  },
  {
   "cell_type": "markdown",
   "metadata": {
    "id": "EhDImackDqs6"
   },
   "source": [
    "### Least Angle Regression"
   ]
  },
  {
   "cell_type": "code",
   "execution_count": 69,
   "metadata": {
    "executionInfo": {
     "elapsed": 268,
     "status": "ok",
     "timestamp": 1648713519925,
     "user": {
      "displayName": "임소연",
      "userId": "16609908587458212979"
     },
     "user_tz": -540
    },
    "id": "2jRxofev-aB-"
   },
   "outputs": [],
   "source": [
    "from sklearn import linear_model\n",
    "lar = linear_model.Lars().fit(X, y)"
   ]
  },
  {
   "cell_type": "code",
   "execution_count": 70,
   "metadata": {
    "colab": {
     "base_uri": "https://localhost:8080/"
    },
    "executionInfo": {
     "elapsed": 489,
     "status": "ok",
     "timestamp": 1648713522762,
     "user": {
      "displayName": "임소연",
      "userId": "16609908587458212979"
     },
     "user_tz": -540
    },
    "id": "y7epsCQY-qSE",
    "outputId": "f381f578-1dbc-4c50-b5b6-67cf62e418be"
   },
   "outputs": [
    {
     "name": "stdout",
     "output_type": "stream",
     "text": [
      "Lars의 10fold 평균 NMAE는 0.5208505937517177\n"
     ]
    }
   ],
   "source": [
    "lar_pred = np.zeros((target.shape[0]))\n",
    "nmae_list = []\n",
    "for tr_idx, val_idx in kf.split(X, y) :\n",
    "    tr_x, tr_y = X.iloc[tr_idx], y.iloc[tr_idx]\n",
    "    val_x, val_y = X.iloc[val_idx], y.iloc[val_idx]\n",
    "    \n",
    "    lar.fit(tr_x, tr_y)\n",
    "    pred = lar.predict(val_x)\n",
    "\n",
    "    nmae = mean_squared_error(val_y, pred) / np.mean(np.abs(val_y))\n",
    "    nmae_list.append(nmae)\n",
    "    \n",
    "    sub_pred = lar.predict(target) / 10\n",
    "    lar_pred += sub_pred\n",
    "print(f'{lar.__class__.__name__}의 10fold 평균 NMAE는 {np.mean(nmae_list)}')"
   ]
  },
  {
   "cell_type": "code",
   "execution_count": null,
   "metadata": {
    "id": "EsotgvC3_AKE"
   },
   "outputs": [],
   "source": []
  },
  {
   "cell_type": "markdown",
   "metadata": {
    "id": "ZKRAEi-kDxKy"
   },
   "source": [
    "### Random Forest Regressor\n",
    "[참고](https://towardsdatascience.com/hyperparameter-tuning-the-random-forest-in-python-using-scikit-learn-28d2aa77dd74)"
   ]
  },
  {
   "cell_type": "code",
   "execution_count": 30,
   "metadata": {
    "executionInfo": {
     "elapsed": 255,
     "status": "ok",
     "timestamp": 1648708774113,
     "user": {
      "displayName": "임소연",
      "userId": "16609908587458212979"
     },
     "user_tz": -540
    },
    "id": "ZhcaZG-jsQ05"
   },
   "outputs": [],
   "source": [
    "from sklearn.ensemble import RandomForestRegressor"
   ]
  },
  {
   "cell_type": "code",
   "execution_count": 54,
   "metadata": {
    "executionInfo": {
     "elapsed": 5571,
     "status": "ok",
     "timestamp": 1648711937879,
     "user": {
      "displayName": "임소연",
      "userId": "16609908587458212979"
     },
     "user_tz": -540
    },
    "id": "_Cnp2j-Fs2VY"
   },
   "outputs": [],
   "source": [
    "rf = RandomForestRegressor(random_state=1115, criterion='mae').fit(X, y)"
   ]
  },
  {
   "cell_type": "code",
   "execution_count": 55,
   "metadata": {
    "colab": {
     "base_uri": "https://localhost:8080/"
    },
    "executionInfo": {
     "elapsed": 48886,
     "status": "ok",
     "timestamp": 1648711986742,
     "user": {
      "displayName": "임소연",
      "userId": "16609908587458212979"
     },
     "user_tz": -540
    },
    "id": "1H5D23-itgHR",
    "outputId": "6bac19f5-13ca-4f45-80a3-3129a1bb556d"
   },
   "outputs": [
    {
     "name": "stdout",
     "output_type": "stream",
     "text": [
      "RandomForestRegressor의 10fold 평균 NMAE는 0.5431032251976627\n"
     ]
    }
   ],
   "source": [
    "rf_pred = np.zeros((target.shape[0]))\n",
    "nmae_list = []\n",
    "for tr_idx, val_idx in kf.split(X, y) :\n",
    "    tr_x, tr_y = X.iloc[tr_idx], y.iloc[tr_idx]\n",
    "    val_x, val_y = X.iloc[val_idx], y.iloc[val_idx]\n",
    "    \n",
    "    rf.fit(tr_x, tr_y)\n",
    "    pred = rf.predict(val_x)\n",
    "\n",
    "    nmae = mean_squared_error(val_y, pred) / np.mean(np.abs(val_y))\n",
    "    nmae_list.append(nmae)\n",
    "    \n",
    "    sub_pred = rf.predict(target) / 10\n",
    "    rf_pred += sub_pred\n",
    "print(f'{rf.__class__.__name__}의 10fold 평균 NMAE는 {np.mean(nmae_list)}')"
   ]
  },
  {
   "cell_type": "code",
   "execution_count": 42,
   "metadata": {
    "executionInfo": {
     "elapsed": 272,
     "status": "ok",
     "timestamp": 1648709459327,
     "user": {
      "displayName": "임소연",
      "userId": "16609908587458212979"
     },
     "user_tz": -540
    },
    "id": "dCEfuy3TuJeg"
   },
   "outputs": [],
   "source": [
    "submission['Target'] = rf_pred\n",
    "submission.to_csv('rf1.csv',index = False)"
   ]
  },
  {
   "cell_type": "markdown",
   "metadata": {
    "id": "S9IGE0e4D6NZ"
   },
   "source": [
    "#### Randomize Search CV"
   ]
  },
  {
   "cell_type": "code",
   "execution_count": 44,
   "metadata": {
    "executionInfo": {
     "elapsed": 574,
     "status": "ok",
     "timestamp": 1648710018025,
     "user": {
      "displayName": "임소연",
      "userId": "16609908587458212979"
     },
     "user_tz": -540
    },
    "id": "P0UUbQIHxOy-"
   },
   "outputs": [],
   "source": [
    "from sklearn.model_selection import RandomizedSearchCV\n",
    "# Number of trees in random forest\n",
    "n_estimators = [int(x) for x in np.linspace(start = 200, stop = 2000, num = 10)]\n",
    "# Number of features to consider at every split\n",
    "max_features = ['auto', 'sqrt']\n",
    "# Maximum number of levels in tree\n",
    "max_depth = [int(x) for x in np.linspace(10, 110, num = 11)]\n",
    "max_depth.append(None)\n",
    "# Minimum number of samples required to split a node\n",
    "min_samples_split = [2, 5, 10]\n",
    "# Minimum number of samples required at each leaf node\n",
    "min_samples_leaf = [1, 2, 4]\n",
    "# Method of selecting samples for training each tree\n",
    "bootstrap = [True, False]\n",
    "# Create the random grid\n",
    "random_grid = {'n_estimators': n_estimators,\n",
    "               'max_features': max_features,\n",
    "               'max_depth': max_depth,\n",
    "               'min_samples_split': min_samples_split,\n",
    "               'min_samples_leaf': min_samples_leaf,\n",
    "               'bootstrap': bootstrap}"
   ]
  },
  {
   "cell_type": "code",
   "execution_count": 46,
   "metadata": {
    "colab": {
     "base_uri": "https://localhost:8080/"
    },
    "executionInfo": {
     "elapsed": 980184,
     "status": "ok",
     "timestamp": 1648711575457,
     "user": {
      "displayName": "임소연",
      "userId": "16609908587458212979"
     },
     "user_tz": -540
    },
    "id": "g2WJQWGwxRy8",
    "outputId": "67aa9d7c-5732-4ee6-fba7-1a6034b57f94"
   },
   "outputs": [
    {
     "name": "stdout",
     "output_type": "stream",
     "text": [
      "Fitting 3 folds for each of 100 candidates, totalling 300 fits\n"
     ]
    },
    {
     "name": "stderr",
     "output_type": "stream",
     "text": [
      "[Parallel(n_jobs=-1)]: Using backend LokyBackend with 2 concurrent workers.\n",
      "[Parallel(n_jobs=-1)]: Done  37 tasks      | elapsed:  2.3min\n",
      "[Parallel(n_jobs=-1)]: Done 158 tasks      | elapsed:  7.8min\n",
      "[Parallel(n_jobs=-1)]: Done 300 out of 300 | elapsed: 16.3min finished\n"
     ]
    },
    {
     "data": {
      "text/plain": [
       "RandomizedSearchCV(cv=3, error_score=nan,\n",
       "                   estimator=RandomForestRegressor(bootstrap=True,\n",
       "                                                   ccp_alpha=0.0,\n",
       "                                                   criterion='mse',\n",
       "                                                   max_depth=None,\n",
       "                                                   max_features='auto',\n",
       "                                                   max_leaf_nodes=None,\n",
       "                                                   max_samples=None,\n",
       "                                                   min_impurity_decrease=0.0,\n",
       "                                                   min_impurity_split=None,\n",
       "                                                   min_samples_leaf=1,\n",
       "                                                   min_samples_split=2,\n",
       "                                                   min_weight_fraction_leaf=0.0,\n",
       "                                                   n_estimators=100,\n",
       "                                                   n_jobs=None, oob_score=Fals...\n",
       "                   param_distributions={'bootstrap': [True, False],\n",
       "                                        'max_depth': [10, 20, 30, 40, 50, 60,\n",
       "                                                      70, 80, 90, 100, 110,\n",
       "                                                      None],\n",
       "                                        'max_features': ['auto', 'sqrt'],\n",
       "                                        'min_samples_leaf': [1, 2, 4],\n",
       "                                        'min_samples_split': [2, 5, 10],\n",
       "                                        'n_estimators': [200, 400, 600, 800,\n",
       "                                                         1000, 1200, 1400, 1600,\n",
       "                                                         1800, 2000]},\n",
       "                   pre_dispatch='2*n_jobs', random_state=42, refit=True,\n",
       "                   return_train_score=False, scoring=None, verbose=2)"
      ]
     },
     "execution_count": 46,
     "metadata": {},
     "output_type": "execute_result"
    }
   ],
   "source": [
    "rf = RandomForestRegressor()\n",
    "rf_random = RandomizedSearchCV(estimator = rf, param_distributions = random_grid, n_iter = 100, cv = 3, verbose=2, random_state=42, n_jobs = -1)\n",
    "rf_random.fit(X, y)"
   ]
  },
  {
   "cell_type": "code",
   "execution_count": 47,
   "metadata": {
    "colab": {
     "base_uri": "https://localhost:8080/"
    },
    "executionInfo": {
     "elapsed": 352,
     "status": "ok",
     "timestamp": 1648711605173,
     "user": {
      "displayName": "임소연",
      "userId": "16609908587458212979"
     },
     "user_tz": -540
    },
    "id": "mW7alAT8xljB",
    "outputId": "db81e3cd-453d-4074-8024-266f0a1df248"
   },
   "outputs": [
    {
     "data": {
      "text/plain": [
       "{'bootstrap': True,\n",
       " 'max_depth': 10,\n",
       " 'max_features': 'auto',\n",
       " 'min_samples_leaf': 4,\n",
       " 'min_samples_split': 5,\n",
       " 'n_estimators': 200}"
      ]
     },
     "execution_count": 47,
     "metadata": {},
     "output_type": "execute_result"
    }
   ],
   "source": [
    "rf_random.best_params_"
   ]
  },
  {
   "cell_type": "code",
   "execution_count": 49,
   "metadata": {
    "executionInfo": {
     "elapsed": 1686,
     "status": "ok",
     "timestamp": 1648711712649,
     "user": {
      "displayName": "임소연",
      "userId": "16609908587458212979"
     },
     "user_tz": -540
    },
    "id": "d44MhSaTy91q"
   },
   "outputs": [],
   "source": [
    "rf2 = RandomForestRegressor(bootstrap=True, max_depth=10, max_features='auto', min_samples_leaf=4, min_samples_split=5, n_estimators=200).fit(X, y)\n",
    "rf2_pred = rf2.predict(target)"
   ]
  },
  {
   "cell_type": "code",
   "execution_count": 52,
   "metadata": {
    "executionInfo": {
     "elapsed": 297,
     "status": "ok",
     "timestamp": 1648711793986,
     "user": {
      "displayName": "임소연",
      "userId": "16609908587458212979"
     },
     "user_tz": -540
    },
    "id": "OQs4KPW-4SFH"
   },
   "outputs": [],
   "source": [
    "submission['Target'] = rf2_pred\n",
    "submission.to_csv('rf2.csv',index = False)"
   ]
  },
  {
   "cell_type": "code",
   "execution_count": 53,
   "metadata": {
    "colab": {
     "base_uri": "https://localhost:8080/"
    },
    "executionInfo": {
     "elapsed": 9156,
     "status": "ok",
     "timestamp": 1648711912583,
     "user": {
      "displayName": "임소연",
      "userId": "16609908587458212979"
     },
     "user_tz": -540
    },
    "id": "bd-jtRdY4Shl",
    "outputId": "5ebb68db-6b62-47da-b8d7-1dcd7f664872"
   },
   "outputs": [
    {
     "name": "stdout",
     "output_type": "stream",
     "text": [
      "RandomForestRegressor의 10fold 평균 NMAE는 0.5269592909188889\n"
     ]
    }
   ],
   "source": [
    "rf_pred2 = np.zeros((target.shape[0]))\n",
    "nmae_list = []\n",
    "for tr_idx, val_idx in kf.split(X, y) :\n",
    "    tr_x, tr_y = X.iloc[tr_idx], y.iloc[tr_idx]\n",
    "    val_x, val_y = X.iloc[val_idx], y.iloc[val_idx]\n",
    "    \n",
    "    rf2.fit(tr_x, tr_y)\n",
    "    pred = rf2.predict(val_x)\n",
    "\n",
    "    nmae = mean_squared_error(val_y, pred) / np.mean(np.abs(val_y))\n",
    "    nmae_list.append(nmae)\n",
    "    \n",
    "    sub_pred = rf2.predict(target) / 10\n",
    "    rf_pred2 += sub_pred\n",
    "print(f'{rf2.__class__.__name__}의 10fold 평균 NMAE는 {np.mean(nmae_list)}')"
   ]
  },
  {
   "cell_type": "markdown",
   "metadata": {
    "id": "L_EvkVUxD_p2"
   },
   "source": [
    "#### Grid Search CV"
   ]
  },
  {
   "cell_type": "code",
   "execution_count": 56,
   "metadata": {
    "colab": {
     "base_uri": "https://localhost:8080/"
    },
    "executionInfo": {
     "elapsed": 616856,
     "status": "ok",
     "timestamp": 1648712646545,
     "user": {
      "displayName": "임소연",
      "userId": "16609908587458212979"
     },
     "user_tz": -540
    },
    "id": "MxcnCrfg1iZY",
    "outputId": "e73befdd-258d-4430-c18d-52ae51e2bde3"
   },
   "outputs": [
    {
     "name": "stdout",
     "output_type": "stream",
     "text": [
      "Fitting 3 folds for each of 288 candidates, totalling 864 fits\n"
     ]
    },
    {
     "name": "stderr",
     "output_type": "stream",
     "text": [
      "[Parallel(n_jobs=-1)]: Using backend LokyBackend with 2 concurrent workers.\n",
      "[Parallel(n_jobs=-1)]: Done  37 tasks      | elapsed:   25.1s\n",
      "[Parallel(n_jobs=-1)]: Done 158 tasks      | elapsed:  1.8min\n",
      "[Parallel(n_jobs=-1)]: Done 361 tasks      | elapsed:  4.2min\n",
      "[Parallel(n_jobs=-1)]: Done 644 tasks      | elapsed:  7.5min\n",
      "[Parallel(n_jobs=-1)]: Done 864 out of 864 | elapsed: 10.3min finished\n"
     ]
    },
    {
     "data": {
      "text/plain": [
       "GridSearchCV(cv=3, error_score=nan,\n",
       "             estimator=RandomForestRegressor(bootstrap=True, ccp_alpha=0.0,\n",
       "                                             criterion='mse', max_depth=None,\n",
       "                                             max_features='auto',\n",
       "                                             max_leaf_nodes=None,\n",
       "                                             max_samples=None,\n",
       "                                             min_impurity_decrease=0.0,\n",
       "                                             min_impurity_split=None,\n",
       "                                             min_samples_leaf=1,\n",
       "                                             min_samples_split=2,\n",
       "                                             min_weight_fraction_leaf=0.0,\n",
       "                                             n_estimators=100, n_jobs=None,\n",
       "                                             oob_score=False, random_state=None,\n",
       "                                             verbose=0, warm_start=False),\n",
       "             iid='deprecated', n_jobs=-1,\n",
       "             param_grid={'bootstrap': [True], 'max_depth': [80, 90, 100, 110],\n",
       "                         'max_features': [2, 3], 'min_samples_leaf': [3, 4, 5],\n",
       "                         'min_samples_split': [8, 10, 12],\n",
       "                         'n_estimators': [100, 200, 300, 1000]},\n",
       "             pre_dispatch='2*n_jobs', refit=True, return_train_score=False,\n",
       "             scoring=None, verbose=2)"
      ]
     },
     "execution_count": 56,
     "metadata": {},
     "output_type": "execute_result"
    }
   ],
   "source": [
    "from sklearn.model_selection import GridSearchCV\n",
    "# Create the parameter grid based on the results of random search \n",
    "param_grid = {\n",
    "    'bootstrap': [True],\n",
    "    'max_depth': [80, 90, 100, 110],\n",
    "    'max_features': [2, 3],\n",
    "    'min_samples_leaf': [3, 4, 5],\n",
    "    'min_samples_split': [8, 10, 12],\n",
    "    'n_estimators': [100, 200, 300, 1000]\n",
    "}\n",
    "# Create a based model\n",
    "rf = RandomForestRegressor()\n",
    "# Instantiate the grid search model\n",
    "grid_search = GridSearchCV(estimator = rf, param_grid = param_grid, cv = 3, n_jobs = -1, verbose = 2)\n",
    "grid_search.fit(X, y)"
   ]
  },
  {
   "cell_type": "code",
   "execution_count": 57,
   "metadata": {
    "colab": {
     "base_uri": "https://localhost:8080/"
    },
    "executionInfo": {
     "elapsed": 369,
     "status": "ok",
     "timestamp": 1648712689240,
     "user": {
      "displayName": "임소연",
      "userId": "16609908587458212979"
     },
     "user_tz": -540
    },
    "id": "ipVG5MA717FG",
    "outputId": "63f97284-db9b-4dde-c96e-345ad2569450"
   },
   "outputs": [
    {
     "data": {
      "text/plain": [
       "{'bootstrap': True,\n",
       " 'max_depth': 80,\n",
       " 'max_features': 3,\n",
       " 'min_samples_leaf': 5,\n",
       " 'min_samples_split': 12,\n",
       " 'n_estimators': 300}"
      ]
     },
     "execution_count": 57,
     "metadata": {},
     "output_type": "execute_result"
    }
   ],
   "source": [
    "grid_search.best_params_"
   ]
  },
  {
   "cell_type": "code",
   "execution_count": 59,
   "metadata": {
    "executionInfo": {
     "elapsed": 2002,
     "status": "ok",
     "timestamp": 1648712746130,
     "user": {
      "displayName": "임소연",
      "userId": "16609908587458212979"
     },
     "user_tz": -540
    },
    "id": "f7Heyzg62Z9v"
   },
   "outputs": [],
   "source": [
    "rf3 = RandomForestRegressor(bootstrap=True, max_depth=80, max_features=3, min_samples_leaf=5, min_samples_split=12, n_estimators=300).fit(X, y)\n",
    "rf3_pred = rf3.predict(target)"
   ]
  },
  {
   "cell_type": "code",
   "execution_count": 60,
   "metadata": {
    "executionInfo": {
     "elapsed": 349,
     "status": "ok",
     "timestamp": 1648712763793,
     "user": {
      "displayName": "임소연",
      "userId": "16609908587458212979"
     },
     "user_tz": -540
    },
    "id": "aLEVGnob797_"
   },
   "outputs": [],
   "source": [
    "submission['Target'] = rf3_pred\n",
    "submission.to_csv('rf3.csv',index = False)"
   ]
  },
  {
   "cell_type": "code",
   "execution_count": 61,
   "metadata": {
    "colab": {
     "base_uri": "https://localhost:8080/"
    },
    "executionInfo": {
     "elapsed": 15461,
     "status": "ok",
     "timestamp": 1648712818530,
     "user": {
      "displayName": "임소연",
      "userId": "16609908587458212979"
     },
     "user_tz": -540
    },
    "id": "mqXvGblA26jR",
    "outputId": "0a0ad6df-13b0-44d6-a774-3c860c4d4ccb"
   },
   "outputs": [
    {
     "name": "stdout",
     "output_type": "stream",
     "text": [
      "RandomForestRegressor의 10fold 평균 NMAE는 0.5119840828142679\n"
     ]
    }
   ],
   "source": [
    "rf_pred3 = np.zeros((target.shape[0]))\n",
    "nmae_list = []\n",
    "for tr_idx, val_idx in kf.split(X, y) :\n",
    "    tr_x, tr_y = X.iloc[tr_idx], y.iloc[tr_idx]\n",
    "    val_x, val_y = X.iloc[val_idx], y.iloc[val_idx]\n",
    "    \n",
    "    rf3.fit(tr_x, tr_y)\n",
    "    pred = rf3.predict(val_x)\n",
    "\n",
    "    nmae = mean_squared_error(val_y, pred) / np.mean(np.abs(val_y))\n",
    "    nmae_list.append(nmae)\n",
    "    \n",
    "    sub_pred = rf3.predict(target) / 10\n",
    "    rf_pred3 += sub_pred\n",
    "print(f'{rf3.__class__.__name__}의 10fold 평균 NMAE는 {np.mean(nmae_list)}')"
   ]
  },
  {
   "cell_type": "markdown",
   "metadata": {
    "id": "Jpqv8s-TEDai"
   },
   "source": [
    "### Gradient Boosting Regressor"
   ]
  },
  {
   "cell_type": "code",
   "execution_count": 71,
   "metadata": {
    "executionInfo": {
     "elapsed": 333,
     "status": "ok",
     "timestamp": 1648713606400,
     "user": {
      "displayName": "임소연",
      "userId": "16609908587458212979"
     },
     "user_tz": -540
    },
    "id": "MRqsIAgp_G29"
   },
   "outputs": [],
   "source": [
    "from sklearn.ensemble import GradientBoostingRegressor\n",
    "\n",
    "gbr = GradientBoostingRegressor(random_state = 1115, max_depth = 5)"
   ]
  },
  {
   "cell_type": "code",
   "execution_count": 73,
   "metadata": {
    "colab": {
     "base_uri": "https://localhost:8080/"
    },
    "executionInfo": {
     "elapsed": 6225,
     "status": "ok",
     "timestamp": 1648713680959,
     "user": {
      "displayName": "임소연",
      "userId": "16609908587458212979"
     },
     "user_tz": -540
    },
    "id": "XPRymq_6_J-U",
    "outputId": "e4829c38-0148-494b-ff96-f30ddba6a263"
   },
   "outputs": [
    {
     "name": "stdout",
     "output_type": "stream",
     "text": [
      "GradientBoostingRegressor의 10fold 평균 NMAE는 0.5739637086418272\n"
     ]
    }
   ],
   "source": [
    "gbr_pred = np.zeros((target.shape[0]))\n",
    "nmae_list = []\n",
    "for tr_idx, val_idx in kf.split(X, y) :\n",
    "    tr_x, tr_y = X.iloc[tr_idx], y.iloc[tr_idx]\n",
    "    val_x, val_y = X.iloc[val_idx], y.iloc[val_idx]\n",
    "    \n",
    "    gbr.fit(tr_x, tr_y)\n",
    "    pred = gbr.predict(val_x)\n",
    "\n",
    "    nmae = mean_squared_error(val_y, pred) / np.mean(np.abs(val_y))\n",
    "    nmae_list.append(nmae)\n",
    "    \n",
    "    sub_pred = gbr.predict(target) / 10\n",
    "    gbr_pred += sub_pred\n",
    "print(f'{gbr.__class__.__name__}의 10fold 평균 NMAE는 {np.mean(nmae_list)}')"
   ]
  },
  {
   "cell_type": "markdown",
   "metadata": {
    "id": "xCFixX67EHXp"
   },
   "source": [
    "### Ensemble"
   ]
  },
  {
   "cell_type": "markdown",
   "metadata": {
    "id": "b50sRpSyEPZt"
   },
   "source": [
    "| 모델              | NMAE score             |\n",
    "| ----------------- | ---------------------- |\n",
    "| Huber             | 0.5354788346653223     |\n",
    "| Linear            | 0.5208505937517176     |\n",
    "| Least Angle       | 0.5208505937517177     |\n",
    "| Random Forest 1   | 0.5431032251976627     |\n",
    "| Random Forest 2   | 0.5269592909188889     |\n",
    "| Random Forest 3   | **0.5119840828142679** |\n",
    "| Gradient Boosting | 0.5739637086418272     |"
   ]
  },
  {
   "cell_type": "code",
   "execution_count": 74,
   "metadata": {
    "executionInfo": {
     "elapsed": 424,
     "status": "ok",
     "timestamp": 1648713844547,
     "user": {
      "displayName": "임소연",
      "userId": "16609908587458212979"
     },
     "user_tz": -540
    },
    "id": "yvZxXdfP8N7s"
   },
   "outputs": [],
   "source": [
    "submission['Target'] = (rf3_pred + lr_pred + huber_pred) / 3\n",
    "submission.to_csv('rf_lr_hb.csv', index=False)"
   ]
  }
 ],
 "metadata": {
  "colab": {
   "authorship_tag": "ABX9TyOz0etJ3M7qbf638/cfXUyJ",
   "name": "전복나이예측.ipynb",
   "provenance": [],
   "toc_visible": true
  },
  "kernelspec": {
   "display_name": "Python 3 (ipykernel)",
   "language": "python",
   "name": "python3"
  },
  "language_info": {
   "codemirror_mode": {
    "name": "ipython",
    "version": 3
   },
   "file_extension": ".py",
   "mimetype": "text/x-python",
   "name": "python",
   "nbconvert_exporter": "python",
   "pygments_lexer": "ipython3",
   "version": "3.7.0"
  },
  "widgets": {
   "application/vnd.jupyter.widget-state+json": {
    "067f92c2cca24cbb86968d6a815d13b8": {
     "model_module": "@jupyter-widgets/controls",
     "model_module_version": "1.5.0",
     "model_name": "TextModel",
     "state": {
      "_dom_classes": [],
      "_model_module": "@jupyter-widgets/controls",
      "_model_module_version": "1.5.0",
      "_model_name": "TextModel",
      "_view_count": null,
      "_view_module": "@jupyter-widgets/controls",
      "_view_module_version": "1.5.0",
      "_view_name": "TextView",
      "continuous_update": true,
      "description": "",
      "description_tooltip": null,
      "disabled": false,
      "layout": "IPY_MODEL_5f2c1fd254a14ddd8dd01cb66f3ef5b2",
      "placeholder": "​",
      "style": "IPY_MODEL_dfe528ae2bd84b5eb3508fdd8b28dc11",
      "value": "Following data types have been inferred automatically, if they are correct press enter to continue or type 'quit' otherwise."
     }
    },
    "2906a19b9cee4a58ab99b72283a106c3": {
     "model_module": "@jupyter-widgets/base",
     "model_module_version": "1.2.0",
     "model_name": "LayoutModel",
     "state": {
      "_model_module": "@jupyter-widgets/base",
      "_model_module_version": "1.2.0",
      "_model_name": "LayoutModel",
      "_view_count": null,
      "_view_module": "@jupyter-widgets/base",
      "_view_module_version": "1.2.0",
      "_view_name": "LayoutView",
      "align_content": null,
      "align_items": null,
      "align_self": null,
      "border": null,
      "bottom": null,
      "display": null,
      "flex": null,
      "flex_flow": null,
      "grid_area": null,
      "grid_auto_columns": null,
      "grid_auto_flow": null,
      "grid_auto_rows": null,
      "grid_column": null,
      "grid_gap": null,
      "grid_row": null,
      "grid_template_areas": null,
      "grid_template_columns": null,
      "grid_template_rows": null,
      "height": null,
      "justify_content": null,
      "justify_items": null,
      "left": null,
      "margin": null,
      "max_height": null,
      "max_width": null,
      "min_height": null,
      "min_width": null,
      "object_fit": null,
      "object_position": null,
      "order": null,
      "overflow": null,
      "overflow_x": null,
      "overflow_y": null,
      "padding": null,
      "right": null,
      "top": null,
      "visibility": null,
      "width": null
     }
    },
    "44255da4bee64663a8f1563cc0a832a3": {
     "model_module": "@jupyter-widgets/controls",
     "model_module_version": "1.5.0",
     "model_name": "ProgressStyleModel",
     "state": {
      "_model_module": "@jupyter-widgets/controls",
      "_model_module_version": "1.5.0",
      "_model_name": "ProgressStyleModel",
      "_view_count": null,
      "_view_module": "@jupyter-widgets/base",
      "_view_module_version": "1.2.0",
      "_view_name": "StyleView",
      "bar_color": null,
      "description_width": ""
     }
    },
    "53e0a855e67343bc83251a8245a4404a": {
     "model_module": "@jupyter-widgets/base",
     "model_module_version": "1.2.0",
     "model_name": "LayoutModel",
     "state": {
      "_model_module": "@jupyter-widgets/base",
      "_model_module_version": "1.2.0",
      "_model_name": "LayoutModel",
      "_view_count": null,
      "_view_module": "@jupyter-widgets/base",
      "_view_module_version": "1.2.0",
      "_view_name": "LayoutView",
      "align_content": null,
      "align_items": null,
      "align_self": null,
      "border": null,
      "bottom": null,
      "display": null,
      "flex": null,
      "flex_flow": null,
      "grid_area": null,
      "grid_auto_columns": null,
      "grid_auto_flow": null,
      "grid_auto_rows": null,
      "grid_column": null,
      "grid_gap": null,
      "grid_row": null,
      "grid_template_areas": null,
      "grid_template_columns": null,
      "grid_template_rows": null,
      "height": null,
      "justify_content": null,
      "justify_items": null,
      "left": null,
      "margin": null,
      "max_height": null,
      "max_width": null,
      "min_height": null,
      "min_width": null,
      "object_fit": null,
      "object_position": null,
      "order": null,
      "overflow": null,
      "overflow_x": null,
      "overflow_y": null,
      "padding": null,
      "right": null,
      "top": null,
      "visibility": null,
      "width": null
     }
    },
    "5f2c1fd254a14ddd8dd01cb66f3ef5b2": {
     "model_module": "@jupyter-widgets/base",
     "model_module_version": "1.2.0",
     "model_name": "LayoutModel",
     "state": {
      "_model_module": "@jupyter-widgets/base",
      "_model_module_version": "1.2.0",
      "_model_name": "LayoutModel",
      "_view_count": null,
      "_view_module": "@jupyter-widgets/base",
      "_view_module_version": "1.2.0",
      "_view_name": "LayoutView",
      "align_content": null,
      "align_items": null,
      "align_self": null,
      "border": null,
      "bottom": null,
      "display": null,
      "flex": null,
      "flex_flow": null,
      "grid_area": null,
      "grid_auto_columns": null,
      "grid_auto_flow": null,
      "grid_auto_rows": null,
      "grid_column": null,
      "grid_gap": null,
      "grid_row": null,
      "grid_template_areas": null,
      "grid_template_columns": null,
      "grid_template_rows": null,
      "height": null,
      "justify_content": null,
      "justify_items": null,
      "left": null,
      "margin": null,
      "max_height": null,
      "max_width": null,
      "min_height": null,
      "min_width": null,
      "object_fit": null,
      "object_position": null,
      "order": null,
      "overflow": null,
      "overflow_x": null,
      "overflow_y": null,
      "padding": null,
      "right": null,
      "top": null,
      "visibility": null,
      "width": "100%"
     }
    },
    "9d56e63994134e378e716321d1e9a708": {
     "model_module": "@jupyter-widgets/controls",
     "model_module_version": "1.5.0",
     "model_name": "ProgressStyleModel",
     "state": {
      "_model_module": "@jupyter-widgets/controls",
      "_model_module_version": "1.5.0",
      "_model_name": "ProgressStyleModel",
      "_view_count": null,
      "_view_module": "@jupyter-widgets/base",
      "_view_module_version": "1.2.0",
      "_view_name": "StyleView",
      "bar_color": null,
      "description_width": ""
     }
    },
    "b4b2b3c85580461088b69ea512aedbfa": {
     "model_module": "@jupyter-widgets/controls",
     "model_module_version": "1.5.0",
     "model_name": "IntProgressModel",
     "state": {
      "_dom_classes": [],
      "_model_module": "@jupyter-widgets/controls",
      "_model_module_version": "1.5.0",
      "_model_name": "IntProgressModel",
      "_view_count": null,
      "_view_module": "@jupyter-widgets/controls",
      "_view_module_version": "1.5.0",
      "_view_name": "ProgressView",
      "bar_style": "",
      "description": "Processing: ",
      "description_tooltip": null,
      "layout": "IPY_MODEL_2906a19b9cee4a58ab99b72283a106c3",
      "max": 94,
      "min": 0,
      "orientation": "horizontal",
      "style": "IPY_MODEL_9d56e63994134e378e716321d1e9a708",
      "value": 94
     }
    },
    "dfe528ae2bd84b5eb3508fdd8b28dc11": {
     "model_module": "@jupyter-widgets/controls",
     "model_module_version": "1.5.0",
     "model_name": "DescriptionStyleModel",
     "state": {
      "_model_module": "@jupyter-widgets/controls",
      "_model_module_version": "1.5.0",
      "_model_name": "DescriptionStyleModel",
      "_view_count": null,
      "_view_module": "@jupyter-widgets/base",
      "_view_module_version": "1.2.0",
      "_view_name": "StyleView",
      "description_width": ""
     }
    },
    "f653193788474e1cb1d9ee1ecede65ee": {
     "model_module": "@jupyter-widgets/controls",
     "model_module_version": "1.5.0",
     "model_name": "IntProgressModel",
     "state": {
      "_dom_classes": [],
      "_model_module": "@jupyter-widgets/controls",
      "_model_module_version": "1.5.0",
      "_model_name": "IntProgressModel",
      "_view_count": null,
      "_view_module": "@jupyter-widgets/controls",
      "_view_module_version": "1.5.0",
      "_view_name": "ProgressView",
      "bar_style": "",
      "description": "Processing: ",
      "description_tooltip": null,
      "layout": "IPY_MODEL_53e0a855e67343bc83251a8245a4404a",
      "max": 3,
      "min": 0,
      "orientation": "horizontal",
      "style": "IPY_MODEL_44255da4bee64663a8f1563cc0a832a3",
      "value": 3
     }
    }
   }
  }
 },
 "nbformat": 4,
 "nbformat_minor": 1
}
